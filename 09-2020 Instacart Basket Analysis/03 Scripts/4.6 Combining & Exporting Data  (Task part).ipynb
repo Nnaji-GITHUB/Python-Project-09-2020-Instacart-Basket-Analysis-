{
 "cells": [
  {
   "cell_type": "markdown",
   "id": "6135d252",
   "metadata": {},
   "source": [
    "# Importing libraries"
   ]
  },
  {
   "cell_type": "code",
   "execution_count": 1,
   "id": "330e5124",
   "metadata": {},
   "outputs": [],
   "source": [
    "# import libraries\n",
    "import pandas as pd\n",
    "import numpy as np\n",
    "import os"
   ]
  },
  {
   "cell_type": "markdown",
   "id": "3d3d8951",
   "metadata": {},
   "source": [
    "# Importing data"
   ]
  },
  {
   "cell_type": "code",
   "execution_count": null,
   "id": "5528515c",
   "metadata": {},
   "outputs": [],
   "source": [
    "# Using path method to import the order_products_combined \n",
    "\"C:\\Users\\Peter\\Desktop\\Data Analytics documents\\Data Immersion\\Achievement 4\\09-2020 Instacart Basket Analysis\""
   ]
  },
  {
   "cell_type": "code",
   "execution_count": 2,
   "id": "5b5b8957",
   "metadata": {},
   "outputs": [],
   "source": [
    "path = r\"C:\\Users\\Peter\\Desktop\\Data Analytics documents\\Data Immersion\\Achievement 4\\09-2020 Instacart Basket Analysis\""
   ]
  },
  {
   "cell_type": "code",
   "execution_count": 3,
   "id": "f33e71c7",
   "metadata": {},
   "outputs": [
    {
     "data": {
      "text/plain": [
       "'C:\\\\Users\\\\Peter\\\\Desktop\\\\Data Analytics documents\\\\Data Immersion\\\\Achievement 4\\\\09-2020 Instacart Basket Analysis'"
      ]
     },
     "execution_count": 3,
     "metadata": {},
     "output_type": "execute_result"
    }
   ],
   "source": [
    "path"
   ]
  },
  {
   "cell_type": "code",
   "execution_count": 4,
   "id": "eb4eb848",
   "metadata": {},
   "outputs": [],
   "source": [
    "# imported the order_products_combined pkl file\n",
    "df_orders_products_combined = pd.read_pickle(os.path.join(path,'02 Data','Prepared Data','orders_products_combined.pkl'))"
   ]
  },
  {
   "cell_type": "code",
   "execution_count": 5,
   "id": "c13071fd",
   "metadata": {},
   "outputs": [
    {
     "data": {
      "text/plain": [
       "(32434489, 10)"
      ]
     },
     "execution_count": 5,
     "metadata": {},
     "output_type": "execute_result"
    }
   ],
   "source": [
    "df_orders_products_combined.shape"
   ]
  },
  {
   "cell_type": "code",
   "execution_count": 6,
   "id": "df630d83",
   "metadata": {},
   "outputs": [],
   "source": [
    "# imported the products_checked csv file\n",
    "df_products_checked = pd.read_csv(os.path.join(path, '02 Data', 'Prepared Data', 'products_checked.csv'), index_col = False)"
   ]
  },
  {
   "cell_type": "markdown",
   "id": "aaa3a220",
   "metadata": {},
   "source": [
    "# Performing merging steps"
   ]
  },
  {
   "cell_type": "code",
   "execution_count": 7,
   "id": "542036f7",
   "metadata": {},
   "outputs": [
    {
     "data": {
      "text/plain": [
       "(49672, 6)"
      ]
     },
     "execution_count": 7,
     "metadata": {},
     "output_type": "execute_result"
    }
   ],
   "source": [
    "# checking the shape of the imported dataframe\n",
    "df_products_checked.shape"
   ]
  },
  {
   "cell_type": "code",
   "execution_count": 8,
   "id": "87c98222",
   "metadata": {},
   "outputs": [
    {
     "name": "stdout",
     "output_type": "stream",
     "text": [
      "<class 'pandas.core.frame.DataFrame'>\n",
      "RangeIndex: 49672 entries, 0 to 49671\n",
      "Data columns (total 6 columns):\n",
      " #   Column         Non-Null Count  Dtype  \n",
      "---  ------         --------------  -----  \n",
      " 0   Unnamed: 0     49672 non-null  int64  \n",
      " 1   product_id     49672 non-null  int64  \n",
      " 2   product_name   49672 non-null  object \n",
      " 3   aisle_id       49672 non-null  int64  \n",
      " 4   department_id  49672 non-null  int64  \n",
      " 5   prices         49672 non-null  float64\n",
      "dtypes: float64(1), int64(4), object(1)\n",
      "memory usage: 2.3+ MB\n"
     ]
    }
   ],
   "source": [
    "# checking the data type\n",
    "df_products_checked.info()"
   ]
  },
  {
   "cell_type": "code",
   "execution_count": 9,
   "id": "6bcb1ea4",
   "metadata": {},
   "outputs": [],
   "source": [
    "# Change types for df_products_checked dataframe\n",
    "df_products_checked['Unnamed: 0']=df_products_checked['Unnamed: 0'].astype('int8')\n",
    "df_products_checked['product_id']=df_products_checked['product_id'].astype('int32')\n",
    "df_products_checked['aisle_id']=df_products_checked['aisle_id'].astype('int8')\n",
    "df_products_checked['department_id']=df_products_checked['department_id'].astype('int8')\n",
    "df_products_checked['prices']=df_products_checked['prices'].astype('float16')"
   ]
  },
  {
   "cell_type": "code",
   "execution_count": 10,
   "id": "7aa0b003",
   "metadata": {},
   "outputs": [
    {
     "name": "stdout",
     "output_type": "stream",
     "text": [
      "<class 'pandas.core.frame.DataFrame'>\n",
      "RangeIndex: 49672 entries, 0 to 49671\n",
      "Data columns (total 6 columns):\n",
      " #   Column         Non-Null Count  Dtype  \n",
      "---  ------         --------------  -----  \n",
      " 0   Unnamed: 0     49672 non-null  int8   \n",
      " 1   product_id     49672 non-null  int32  \n",
      " 2   product_name   49672 non-null  object \n",
      " 3   aisle_id       49672 non-null  int8   \n",
      " 4   department_id  49672 non-null  int8   \n",
      " 5   prices         49672 non-null  float16\n",
      "dtypes: float16(1), int32(1), int8(3), object(1)\n",
      "memory usage: 824.8+ KB\n"
     ]
    }
   ],
   "source": [
    "df_products_checked.info()"
   ]
  },
  {
   "cell_type": "code",
   "execution_count": 11,
   "id": "729d954c",
   "metadata": {},
   "outputs": [],
   "source": [
    "# dropping some column\n",
    "df_products_checked.drop(columns = {'Unnamed: 0'}, inplace = True)"
   ]
  },
  {
   "cell_type": "code",
   "execution_count": 12,
   "id": "1be4f9d4",
   "metadata": {},
   "outputs": [
    {
     "data": {
      "text/plain": [
       "Index(['product_id', 'product_name', 'aisle_id', 'department_id', 'prices'], dtype='object')"
      ]
     },
     "execution_count": 12,
     "metadata": {},
     "output_type": "execute_result"
    }
   ],
   "source": [
    "df_products_checked.columns"
   ]
  },
  {
   "cell_type": "code",
   "execution_count": 13,
   "id": "3775f49e",
   "metadata": {},
   "outputs": [
    {
     "name": "stdout",
     "output_type": "stream",
     "text": [
      "<class 'pandas.core.frame.DataFrame'>\n",
      "RangeIndex: 49672 entries, 0 to 49671\n",
      "Data columns (total 5 columns):\n",
      " #   Column         Non-Null Count  Dtype  \n",
      "---  ------         --------------  -----  \n",
      " 0   product_id     49672 non-null  int32  \n",
      " 1   product_name   49672 non-null  object \n",
      " 2   aisle_id       49672 non-null  int8   \n",
      " 3   department_id  49672 non-null  int8   \n",
      " 4   prices         49672 non-null  float16\n",
      "dtypes: float16(1), int32(1), int8(2), object(1)\n",
      "memory usage: 776.2+ KB\n"
     ]
    }
   ],
   "source": [
    "df_products_checked.info()"
   ]
  },
  {
   "cell_type": "code",
   "execution_count": 14,
   "id": "0bb1b627",
   "metadata": {},
   "outputs": [
    {
     "name": "stdout",
     "output_type": "stream",
     "text": [
      "<class 'pandas.core.frame.DataFrame'>\n",
      "Int64Index: 32434489 entries, 0 to 32434488\n",
      "Data columns (total 10 columns):\n",
      " #   Column                  Dtype   \n",
      "---  ------                  -----   \n",
      " 0   order_id                int32   \n",
      " 1   user_id                 int32   \n",
      " 2   order_number            int8    \n",
      " 3   orders_day_of_week      int8    \n",
      " 4   order_time_of_day       int8    \n",
      " 5   days_since_prior_order  float16 \n",
      " 6   product_id              int32   \n",
      " 7   add_to_cart_order       int32   \n",
      " 8   reordered               int8    \n",
      " 9   _merge                  category\n",
      "dtypes: category(1), float16(1), int32(4), int8(4)\n",
      "memory usage: 958.9 MB\n"
     ]
    }
   ],
   "source": [
    "df_orders_products_combined.info()"
   ]
  },
  {
   "cell_type": "markdown",
   "id": "c2b75213",
   "metadata": {},
   "source": [
    "# Merging operation"
   ]
  },
  {
   "cell_type": "code",
   "execution_count": 15,
   "id": "0e7df7fa",
   "metadata": {},
   "outputs": [],
   "source": [
    "# Merging the df_orders_product_combined with the df_prodcuts_checked\n",
    "df_OPC_and_PC_merged = df_orders_products_combined.merge(df_products_checked, on = 'product_id')"
   ]
  },
  {
   "cell_type": "code",
   "execution_count": 16,
   "id": "f2f09ff2",
   "metadata": {},
   "outputs": [
    {
     "data": {
      "text/html": [
       "<div>\n",
       "<style scoped>\n",
       "    .dataframe tbody tr th:only-of-type {\n",
       "        vertical-align: middle;\n",
       "    }\n",
       "\n",
       "    .dataframe tbody tr th {\n",
       "        vertical-align: top;\n",
       "    }\n",
       "\n",
       "    .dataframe thead th {\n",
       "        text-align: right;\n",
       "    }\n",
       "</style>\n",
       "<table border=\"1\" class=\"dataframe\">\n",
       "  <thead>\n",
       "    <tr style=\"text-align: right;\">\n",
       "      <th></th>\n",
       "      <th>order_id</th>\n",
       "      <th>user_id</th>\n",
       "      <th>order_number</th>\n",
       "      <th>orders_day_of_week</th>\n",
       "      <th>order_time_of_day</th>\n",
       "      <th>days_since_prior_order</th>\n",
       "      <th>product_id</th>\n",
       "      <th>add_to_cart_order</th>\n",
       "      <th>reordered</th>\n",
       "      <th>_merge</th>\n",
       "      <th>product_name</th>\n",
       "      <th>aisle_id</th>\n",
       "      <th>department_id</th>\n",
       "      <th>prices</th>\n",
       "    </tr>\n",
       "  </thead>\n",
       "  <tbody>\n",
       "    <tr>\n",
       "      <th>0</th>\n",
       "      <td>2539329</td>\n",
       "      <td>1</td>\n",
       "      <td>1</td>\n",
       "      <td>2</td>\n",
       "      <td>8</td>\n",
       "      <td>NaN</td>\n",
       "      <td>196</td>\n",
       "      <td>1</td>\n",
       "      <td>0</td>\n",
       "      <td>both</td>\n",
       "      <td>Soda</td>\n",
       "      <td>77</td>\n",
       "      <td>7</td>\n",
       "      <td>9.0</td>\n",
       "    </tr>\n",
       "    <tr>\n",
       "      <th>1</th>\n",
       "      <td>2398795</td>\n",
       "      <td>1</td>\n",
       "      <td>2</td>\n",
       "      <td>3</td>\n",
       "      <td>7</td>\n",
       "      <td>15.0</td>\n",
       "      <td>196</td>\n",
       "      <td>1</td>\n",
       "      <td>1</td>\n",
       "      <td>both</td>\n",
       "      <td>Soda</td>\n",
       "      <td>77</td>\n",
       "      <td>7</td>\n",
       "      <td>9.0</td>\n",
       "    </tr>\n",
       "    <tr>\n",
       "      <th>2</th>\n",
       "      <td>473747</td>\n",
       "      <td>1</td>\n",
       "      <td>3</td>\n",
       "      <td>3</td>\n",
       "      <td>12</td>\n",
       "      <td>21.0</td>\n",
       "      <td>196</td>\n",
       "      <td>1</td>\n",
       "      <td>1</td>\n",
       "      <td>both</td>\n",
       "      <td>Soda</td>\n",
       "      <td>77</td>\n",
       "      <td>7</td>\n",
       "      <td>9.0</td>\n",
       "    </tr>\n",
       "    <tr>\n",
       "      <th>3</th>\n",
       "      <td>2254736</td>\n",
       "      <td>1</td>\n",
       "      <td>4</td>\n",
       "      <td>4</td>\n",
       "      <td>7</td>\n",
       "      <td>29.0</td>\n",
       "      <td>196</td>\n",
       "      <td>1</td>\n",
       "      <td>1</td>\n",
       "      <td>both</td>\n",
       "      <td>Soda</td>\n",
       "      <td>77</td>\n",
       "      <td>7</td>\n",
       "      <td>9.0</td>\n",
       "    </tr>\n",
       "    <tr>\n",
       "      <th>4</th>\n",
       "      <td>431534</td>\n",
       "      <td>1</td>\n",
       "      <td>5</td>\n",
       "      <td>4</td>\n",
       "      <td>15</td>\n",
       "      <td>28.0</td>\n",
       "      <td>196</td>\n",
       "      <td>1</td>\n",
       "      <td>1</td>\n",
       "      <td>both</td>\n",
       "      <td>Soda</td>\n",
       "      <td>77</td>\n",
       "      <td>7</td>\n",
       "      <td>9.0</td>\n",
       "    </tr>\n",
       "  </tbody>\n",
       "</table>\n",
       "</div>"
      ],
      "text/plain": [
       "   order_id  user_id  order_number  orders_day_of_week  order_time_of_day  \\\n",
       "0   2539329        1             1                   2                  8   \n",
       "1   2398795        1             2                   3                  7   \n",
       "2    473747        1             3                   3                 12   \n",
       "3   2254736        1             4                   4                  7   \n",
       "4    431534        1             5                   4                 15   \n",
       "\n",
       "   days_since_prior_order  product_id  add_to_cart_order  reordered _merge  \\\n",
       "0                     NaN         196                  1          0   both   \n",
       "1                    15.0         196                  1          1   both   \n",
       "2                    21.0         196                  1          1   both   \n",
       "3                    29.0         196                  1          1   both   \n",
       "4                    28.0         196                  1          1   both   \n",
       "\n",
       "  product_name  aisle_id  department_id  prices  \n",
       "0         Soda        77              7     9.0  \n",
       "1         Soda        77              7     9.0  \n",
       "2         Soda        77              7     9.0  \n",
       "3         Soda        77              7     9.0  \n",
       "4         Soda        77              7     9.0  "
      ]
     },
     "execution_count": 16,
     "metadata": {},
     "output_type": "execute_result"
    }
   ],
   "source": [
    "df_OPC_and_PC_merged.head()"
   ]
  },
  {
   "cell_type": "code",
   "execution_count": 17,
   "id": "8e0b8935",
   "metadata": {},
   "outputs": [
    {
     "data": {
      "text/plain": [
       "both          32404859\n",
       "left_only            0\n",
       "right_only           0\n",
       "Name: _merge, dtype: int64"
      ]
     },
     "execution_count": 17,
     "metadata": {},
     "output_type": "execute_result"
    }
   ],
   "source": [
    "# using the value counts to see how the merge where performed\n",
    "df_OPC_and_PC_merged['_merge'].value_counts()"
   ]
  },
  {
   "cell_type": "code",
   "execution_count": 18,
   "id": "c90c9fbe",
   "metadata": {},
   "outputs": [
    {
     "data": {
      "text/plain": [
       "both          32404859\n",
       "left_only            0\n",
       "right_only           0\n",
       "Name: _merge, dtype: int64"
      ]
     },
     "execution_count": 18,
     "metadata": {},
     "output_type": "execute_result"
    }
   ],
   "source": [
    "# using the argument how = outer\n",
    "df_OPC_and_PC_merged['_merge'].value_counts(dropna = False)"
   ]
  },
  {
   "cell_type": "markdown",
   "id": "95c1ba44",
   "metadata": {},
   "source": [
    "# Exporting file"
   ]
  },
  {
   "cell_type": "code",
   "execution_count": 19,
   "id": "02645177",
   "metadata": {},
   "outputs": [],
   "source": [
    "# exporting the df_OPC_and_PC_merged as Pickle\n",
    "df_OPC_and_PC_merged.to_pickle(os.path.join(path, '02 Data','Prepared Data', 'orders_products_merged.pkl'))"
   ]
  },
  {
   "cell_type": "code",
   "execution_count": null,
   "id": "7ae3b2eb",
   "metadata": {},
   "outputs": [],
   "source": []
  }
 ],
 "metadata": {
  "kernelspec": {
   "display_name": "Python 3 (ipykernel)",
   "language": "python",
   "name": "python3"
  },
  "language_info": {
   "codemirror_mode": {
    "name": "ipython",
    "version": 3
   },
   "file_extension": ".py",
   "mimetype": "text/x-python",
   "name": "python",
   "nbconvert_exporter": "python",
   "pygments_lexer": "ipython3",
   "version": "3.9.12"
  }
 },
 "nbformat": 4,
 "nbformat_minor": 5
}
