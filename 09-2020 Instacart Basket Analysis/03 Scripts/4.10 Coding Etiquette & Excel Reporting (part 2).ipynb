{
 "cells": [
  {
   "cell_type": "markdown",
   "id": "1f7eb4d7",
   "metadata": {},
   "source": [
    "# Importing libraries"
   ]
  },
  {
   "cell_type": "code",
   "execution_count": 1,
   "id": "4233d015",
   "metadata": {},
   "outputs": [],
   "source": [
    "import pandas as pd\n",
    "import numpy as np\n",
    "import os\n",
    "import matplotlib.pyplot as plt\n",
    "import seaborn as sns\n",
    "import scipy\n",
    "import pandas_profiling as pp\n",
    "from pandas_profiling import ProfileReport"
   ]
  },
  {
   "cell_type": "code",
   "execution_count": null,
   "id": "d50aa08a",
   "metadata": {},
   "outputs": [],
   "source": [
    "# Using path method to import data\n",
    "\"C:\\Users\\Peter\\Desktop\\Data Analytics documents\\Data Immersion\\Achievement 4\\09-2020 Instacart Basket Analysis\""
   ]
  },
  {
   "cell_type": "code",
   "execution_count": 2,
   "id": "4e89ec60",
   "metadata": {},
   "outputs": [],
   "source": [
    "path = r\"C:\\Users\\Peter\\Desktop\\Data Analytics documents\\Data Immersion\\Achievement 4\\09-2020 Instacart Basket Analysis\""
   ]
  },
  {
   "cell_type": "code",
   "execution_count": 3,
   "id": "c7c4e767",
   "metadata": {},
   "outputs": [
    {
     "data": {
      "text/plain": [
       "'C:\\\\Users\\\\Peter\\\\Desktop\\\\Data Analytics documents\\\\Data Immersion\\\\Achievement 4\\\\09-2020 Instacart Basket Analysis'"
      ]
     },
     "execution_count": 3,
     "metadata": {},
     "output_type": "execute_result"
    }
   ],
   "source": [
    "path"
   ]
  },
  {
   "cell_type": "code",
   "execution_count": 4,
   "id": "f489140d",
   "metadata": {},
   "outputs": [],
   "source": [
    "# imported small pkl file\n",
    "small = pd.read_pickle(os.path.join(path,'02 Data','Prepared Data','Exclusive_flag.pkl'))"
   ]
  },
  {
   "cell_type": "code",
   "execution_count": 5,
   "id": "d3929c37",
   "metadata": {},
   "outputs": [
    {
     "data": {
      "text/html": [
       "<div>\n",
       "<style scoped>\n",
       "    .dataframe tbody tr th:only-of-type {\n",
       "        vertical-align: middle;\n",
       "    }\n",
       "\n",
       "    .dataframe tbody tr th {\n",
       "        vertical-align: top;\n",
       "    }\n",
       "\n",
       "    .dataframe thead th {\n",
       "        text-align: right;\n",
       "    }\n",
       "</style>\n",
       "<table border=\"1\" class=\"dataframe\">\n",
       "  <thead>\n",
       "    <tr style=\"text-align: right;\">\n",
       "      <th></th>\n",
       "      <th>order_id</th>\n",
       "      <th>user_id</th>\n",
       "      <th>order_number</th>\n",
       "      <th>orders_day_of_week</th>\n",
       "      <th>order_time_of_day</th>\n",
       "      <th>department_id</th>\n",
       "      <th>Spender_flag</th>\n",
       "      <th>frequency_flag</th>\n",
       "      <th>STATE</th>\n",
       "      <th>Age</th>\n",
       "      <th>number_of_dependants</th>\n",
       "      <th>income</th>\n",
       "      <th>Region</th>\n",
       "    </tr>\n",
       "  </thead>\n",
       "  <tbody>\n",
       "    <tr>\n",
       "      <th>6</th>\n",
       "      <td>550135</td>\n",
       "      <td>1</td>\n",
       "      <td>7</td>\n",
       "      <td>1</td>\n",
       "      <td>9</td>\n",
       "      <td>7</td>\n",
       "      <td>Low spender</td>\n",
       "      <td>Non-frequent customer</td>\n",
       "      <td>Alabama</td>\n",
       "      <td>31</td>\n",
       "      <td>3</td>\n",
       "      <td>40423</td>\n",
       "      <td>Region_3</td>\n",
       "    </tr>\n",
       "    <tr>\n",
       "      <th>19</th>\n",
       "      <td>2295261</td>\n",
       "      <td>1</td>\n",
       "      <td>9</td>\n",
       "      <td>1</td>\n",
       "      <td>16</td>\n",
       "      <td>19</td>\n",
       "      <td>Low spender</td>\n",
       "      <td>Non-frequent customer</td>\n",
       "      <td>Alabama</td>\n",
       "      <td>31</td>\n",
       "      <td>3</td>\n",
       "      <td>40423</td>\n",
       "      <td>Region_3</td>\n",
       "    </tr>\n",
       "    <tr>\n",
       "      <th>28</th>\n",
       "      <td>431534</td>\n",
       "      <td>1</td>\n",
       "      <td>5</td>\n",
       "      <td>4</td>\n",
       "      <td>15</td>\n",
       "      <td>19</td>\n",
       "      <td>Low spender</td>\n",
       "      <td>Non-frequent customer</td>\n",
       "      <td>Alabama</td>\n",
       "      <td>31</td>\n",
       "      <td>3</td>\n",
       "      <td>40423</td>\n",
       "      <td>Region_3</td>\n",
       "    </tr>\n",
       "    <tr>\n",
       "      <th>31</th>\n",
       "      <td>3108588</td>\n",
       "      <td>1</td>\n",
       "      <td>8</td>\n",
       "      <td>1</td>\n",
       "      <td>14</td>\n",
       "      <td>19</td>\n",
       "      <td>Low spender</td>\n",
       "      <td>Non-frequent customer</td>\n",
       "      <td>Alabama</td>\n",
       "      <td>31</td>\n",
       "      <td>3</td>\n",
       "      <td>40423</td>\n",
       "      <td>Region_3</td>\n",
       "    </tr>\n",
       "    <tr>\n",
       "      <th>42</th>\n",
       "      <td>3367565</td>\n",
       "      <td>1</td>\n",
       "      <td>6</td>\n",
       "      <td>2</td>\n",
       "      <td>7</td>\n",
       "      <td>16</td>\n",
       "      <td>Low spender</td>\n",
       "      <td>Non-frequent customer</td>\n",
       "      <td>Alabama</td>\n",
       "      <td>31</td>\n",
       "      <td>3</td>\n",
       "      <td>40423</td>\n",
       "      <td>Region_3</td>\n",
       "    </tr>\n",
       "  </tbody>\n",
       "</table>\n",
       "</div>"
      ],
      "text/plain": [
       "    order_id  user_id  order_number  orders_day_of_week  order_time_of_day  \\\n",
       "6     550135        1             7                   1                  9   \n",
       "19   2295261        1             9                   1                 16   \n",
       "28    431534        1             5                   4                 15   \n",
       "31   3108588        1             8                   1                 14   \n",
       "42   3367565        1             6                   2                  7   \n",
       "\n",
       "    department_id Spender_flag         frequency_flag    STATE  Age  \\\n",
       "6               7  Low spender  Non-frequent customer  Alabama   31   \n",
       "19             19  Low spender  Non-frequent customer  Alabama   31   \n",
       "28             19  Low spender  Non-frequent customer  Alabama   31   \n",
       "31             19  Low spender  Non-frequent customer  Alabama   31   \n",
       "42             16  Low spender  Non-frequent customer  Alabama   31   \n",
       "\n",
       "    number_of_dependants  income    Region  \n",
       "6                      3   40423  Region_3  \n",
       "19                     3   40423  Region_3  \n",
       "28                     3   40423  Region_3  \n",
       "31                     3   40423  Region_3  \n",
       "42                     3   40423  Region_3  "
      ]
     },
     "execution_count": 5,
     "metadata": {},
     "output_type": "execute_result"
    }
   ],
   "source": [
    "small.head()"
   ]
  },
  {
   "cell_type": "code",
   "execution_count": 6,
   "id": "c8d0a6c5",
   "metadata": {},
   "outputs": [
    {
     "name": "stdout",
     "output_type": "stream",
     "text": [
      "<class 'pandas.core.frame.DataFrame'>\n",
      "Int64Index: 7322981 entries, 6 to 32404850\n",
      "Data columns (total 13 columns):\n",
      " #   Column                Dtype \n",
      "---  ------                ----- \n",
      " 0   order_id              int32 \n",
      " 1   user_id               int32 \n",
      " 2   order_number          int8  \n",
      " 3   orders_day_of_week    int8  \n",
      " 4   order_time_of_day     int8  \n",
      " 5   department_id         int8  \n",
      " 6   Spender_flag          object\n",
      " 7   frequency_flag        object\n",
      " 8   STATE                 object\n",
      " 9   Age                   int8  \n",
      " 10  number_of_dependants  int8  \n",
      " 11  income                int32 \n",
      " 12  Region                object\n",
      "dtypes: int32(3), int8(6), object(4)\n",
      "memory usage: 405.1+ MB\n"
     ]
    }
   ],
   "source": [
    "small.info()"
   ]
  },
  {
   "cell_type": "code",
   "execution_count": 7,
   "id": "efa37b8b",
   "metadata": {},
   "outputs": [],
   "source": [
    "# dropping some columns in the dataframe\n",
    "small.drop(columns = {'Spender_flag','frequency_flag','STATE','Region'}, inplace = True)"
   ]
  },
  {
   "cell_type": "code",
   "execution_count": 8,
   "id": "f97e2c8d",
   "metadata": {},
   "outputs": [
    {
     "name": "stdout",
     "output_type": "stream",
     "text": [
      "<class 'pandas.core.frame.DataFrame'>\n",
      "Int64Index: 7322981 entries, 6 to 32404850\n",
      "Data columns (total 9 columns):\n",
      " #   Column                Dtype\n",
      "---  ------                -----\n",
      " 0   order_id              int32\n",
      " 1   user_id               int32\n",
      " 2   order_number          int8 \n",
      " 3   orders_day_of_week    int8 \n",
      " 4   order_time_of_day     int8 \n",
      " 5   department_id         int8 \n",
      " 6   Age                   int8 \n",
      " 7   number_of_dependants  int8 \n",
      " 8   income                int32\n",
      "dtypes: int32(3), int8(6)\n",
      "memory usage: 181.6 MB\n"
     ]
    }
   ],
   "source": [
    "small.info()"
   ]
  },
  {
   "cell_type": "code",
   "execution_count": 5,
   "id": "0c2aa3c1",
   "metadata": {},
   "outputs": [],
   "source": [
    "# Exporting small dataframe as csv to my prepared data folder to be use in the Colab for data profiling.\n",
    "small.to_csv(os.path.join(path, '02 Data','Prepared Data', 'Exclusive_flag.csv'))"
   ]
  },
  {
   "cell_type": "code",
   "execution_count": 9,
   "id": "ba26d2bf",
   "metadata": {},
   "outputs": [],
   "source": [
    "Profile = ProfileReport(small, title = 'Customers Profiling Report')"
   ]
  }
 ],
 "metadata": {
  "kernelspec": {
   "display_name": "Python 3 (ipykernel)",
   "language": "python",
   "name": "python3"
  },
  "language_info": {
   "codemirror_mode": {
    "name": "ipython",
    "version": 3
   },
   "file_extension": ".py",
   "mimetype": "text/x-python",
   "name": "python",
   "nbconvert_exporter": "python",
   "pygments_lexer": "ipython3",
   "version": "3.9.12"
  }
 },
 "nbformat": 4,
 "nbformat_minor": 5
}
