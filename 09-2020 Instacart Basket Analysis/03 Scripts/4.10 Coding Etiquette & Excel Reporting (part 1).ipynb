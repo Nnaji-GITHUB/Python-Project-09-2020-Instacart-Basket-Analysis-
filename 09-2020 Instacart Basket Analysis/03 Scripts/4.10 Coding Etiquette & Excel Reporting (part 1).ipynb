{
 "cells": [
  {
   "cell_type": "markdown",
   "id": "7f846500",
   "metadata": {},
   "source": [
    "# Contents:"
   ]
  },
  {
   "cell_type": "markdown",
   "id": "9a55d4d3",
   "metadata": {},
   "source": [
    "# Importong libraries."
   ]
  },
  {
   "cell_type": "markdown",
   "id": "4c5f8e8a",
   "metadata": {},
   "source": [
    "# Importing data set."
   ]
  },
  {
   "cell_type": "markdown",
   "id": "1ff77554",
   "metadata": {},
   "source": [
    "# Performing exercise task."
   ]
  },
  {
   "cell_type": "markdown",
   "id": "4c08667f",
   "metadata": {},
   "source": [
    "# Importing libraries"
   ]
  },
  {
   "cell_type": "code",
   "execution_count": 1,
   "id": "582a4cea",
   "metadata": {},
   "outputs": [],
   "source": [
    "import pandas as pd\n",
    "import numpy as np\n",
    "import os\n",
    "import matplotlib.pyplot as plt\n",
    "import seaborn as sns\n",
    "import scipy\n",
    "import pandas_profiling as pp"
   ]
  },
  {
   "cell_type": "markdown",
   "id": "22dc936a",
   "metadata": {},
   "source": [
    "# Importing data set"
   ]
  },
  {
   "cell_type": "code",
   "execution_count": null,
   "id": "f3af93c2",
   "metadata": {},
   "outputs": [],
   "source": [
    "# Using path method to import data\n",
    "\"C:\\Users\\Peter\\Desktop\\Data Analytics documents\\Data Immersion\\Achievement 4\\09-2020 Instacart Basket Analysis\""
   ]
  },
  {
   "cell_type": "code",
   "execution_count": 2,
   "id": "cb04e272",
   "metadata": {},
   "outputs": [],
   "source": [
    "path = r\"C:\\Users\\Peter\\Desktop\\Data Analytics documents\\Data Immersion\\Achievement 4\\09-2020 Instacart Basket Analysis\""
   ]
  },
  {
   "cell_type": "code",
   "execution_count": 3,
   "id": "dfa4dda1",
   "metadata": {},
   "outputs": [
    {
     "data": {
      "text/plain": [
       "'C:\\\\Users\\\\Peter\\\\Desktop\\\\Data Analytics documents\\\\Data Immersion\\\\Achievement 4\\\\09-2020 Instacart Basket Analysis'"
      ]
     },
     "execution_count": 3,
     "metadata": {},
     "output_type": "execute_result"
    }
   ],
   "source": [
    "path"
   ]
  },
  {
   "cell_type": "code",
   "execution_count": 4,
   "id": "800e7b1c",
   "metadata": {},
   "outputs": [],
   "source": [
    "# imported the all_products_merged pkl file\n",
    "df_all_products_merged = pd.read_pickle(os.path.join(path,'02 Data','Prepared Data','all_products_merged_3.pkl'))"
   ]
  },
  {
   "cell_type": "markdown",
   "id": "faee5f79",
   "metadata": {},
   "source": [
    "# Performing the exercise task\n",
    "1.Checking for data security"
   ]
  },
  {
   "cell_type": "code",
   "execution_count": 5,
   "id": "ff9c71c7",
   "metadata": {
    "scrolled": true
   },
   "outputs": [
    {
     "data": {
      "text/plain": [
       "Index(['order_id', 'user_id', 'order_number', 'orders_day_of_week',\n",
       "       'order_time_of_day', 'department_id', 'Spender_flag', 'frequency_flag',\n",
       "       'STATE', 'Age', 'number_of_dependants', 'income'],\n",
       "      dtype='object')"
      ]
     },
     "execution_count": 5,
     "metadata": {},
     "output_type": "execute_result"
    }
   ],
   "source": [
    "# please note some of the columns that are not necessary for the task 4.10 have been removed, due to memory issues\n",
    "df_all_products_merged.columns"
   ]
  },
  {
   "cell_type": "code",
   "execution_count": null,
   "id": "92d60426",
   "metadata": {},
   "outputs": [],
   "source": [
    "# dropping some columns with PII, due to some security reasons. This columns have already been dropped\n",
    "df_all_products_merged.drop(columns = {'First Name','Surnam',}, inplace = True)"
   ]
  },
  {
   "cell_type": "markdown",
   "id": "199b938d",
   "metadata": {},
   "source": [
    "2.creating region column"
   ]
  },
  {
   "cell_type": "code",
   "execution_count": 6,
   "id": "34964025",
   "metadata": {
    "scrolled": true
   },
   "outputs": [
    {
     "data": {
      "text/html": [
       "<div>\n",
       "<style scoped>\n",
       "    .dataframe tbody tr th:only-of-type {\n",
       "        vertical-align: middle;\n",
       "    }\n",
       "\n",
       "    .dataframe tbody tr th {\n",
       "        vertical-align: top;\n",
       "    }\n",
       "\n",
       "    .dataframe thead th {\n",
       "        text-align: right;\n",
       "    }\n",
       "</style>\n",
       "<table border=\"1\" class=\"dataframe\">\n",
       "  <thead>\n",
       "    <tr style=\"text-align: right;\">\n",
       "      <th></th>\n",
       "      <th>order_id</th>\n",
       "      <th>user_id</th>\n",
       "      <th>order_number</th>\n",
       "      <th>orders_day_of_week</th>\n",
       "      <th>order_time_of_day</th>\n",
       "      <th>department_id</th>\n",
       "      <th>Spender_flag</th>\n",
       "      <th>frequency_flag</th>\n",
       "      <th>STATE</th>\n",
       "      <th>Age</th>\n",
       "      <th>number_of_dependants</th>\n",
       "      <th>income</th>\n",
       "    </tr>\n",
       "  </thead>\n",
       "  <tbody>\n",
       "    <tr>\n",
       "      <th>0</th>\n",
       "      <td>2539329</td>\n",
       "      <td>1</td>\n",
       "      <td>1</td>\n",
       "      <td>2</td>\n",
       "      <td>8</td>\n",
       "      <td>7</td>\n",
       "      <td>Low spender</td>\n",
       "      <td>Non-frequent customer</td>\n",
       "      <td>Alabama</td>\n",
       "      <td>31</td>\n",
       "      <td>3</td>\n",
       "      <td>40423</td>\n",
       "    </tr>\n",
       "    <tr>\n",
       "      <th>1</th>\n",
       "      <td>2398795</td>\n",
       "      <td>1</td>\n",
       "      <td>2</td>\n",
       "      <td>3</td>\n",
       "      <td>7</td>\n",
       "      <td>7</td>\n",
       "      <td>Low spender</td>\n",
       "      <td>Non-frequent customer</td>\n",
       "      <td>Alabama</td>\n",
       "      <td>31</td>\n",
       "      <td>3</td>\n",
       "      <td>40423</td>\n",
       "    </tr>\n",
       "    <tr>\n",
       "      <th>2</th>\n",
       "      <td>473747</td>\n",
       "      <td>1</td>\n",
       "      <td>3</td>\n",
       "      <td>3</td>\n",
       "      <td>12</td>\n",
       "      <td>7</td>\n",
       "      <td>Low spender</td>\n",
       "      <td>Non-frequent customer</td>\n",
       "      <td>Alabama</td>\n",
       "      <td>31</td>\n",
       "      <td>3</td>\n",
       "      <td>40423</td>\n",
       "    </tr>\n",
       "    <tr>\n",
       "      <th>3</th>\n",
       "      <td>2254736</td>\n",
       "      <td>1</td>\n",
       "      <td>4</td>\n",
       "      <td>4</td>\n",
       "      <td>7</td>\n",
       "      <td>7</td>\n",
       "      <td>Low spender</td>\n",
       "      <td>Non-frequent customer</td>\n",
       "      <td>Alabama</td>\n",
       "      <td>31</td>\n",
       "      <td>3</td>\n",
       "      <td>40423</td>\n",
       "    </tr>\n",
       "    <tr>\n",
       "      <th>4</th>\n",
       "      <td>431534</td>\n",
       "      <td>1</td>\n",
       "      <td>5</td>\n",
       "      <td>4</td>\n",
       "      <td>15</td>\n",
       "      <td>7</td>\n",
       "      <td>Low spender</td>\n",
       "      <td>Non-frequent customer</td>\n",
       "      <td>Alabama</td>\n",
       "      <td>31</td>\n",
       "      <td>3</td>\n",
       "      <td>40423</td>\n",
       "    </tr>\n",
       "  </tbody>\n",
       "</table>\n",
       "</div>"
      ],
      "text/plain": [
       "   order_id  user_id  order_number  orders_day_of_week  order_time_of_day  \\\n",
       "0   2539329        1             1                   2                  8   \n",
       "1   2398795        1             2                   3                  7   \n",
       "2    473747        1             3                   3                 12   \n",
       "3   2254736        1             4                   4                  7   \n",
       "4    431534        1             5                   4                 15   \n",
       "\n",
       "   department_id Spender_flag         frequency_flag    STATE  Age  \\\n",
       "0              7  Low spender  Non-frequent customer  Alabama   31   \n",
       "1              7  Low spender  Non-frequent customer  Alabama   31   \n",
       "2              7  Low spender  Non-frequent customer  Alabama   31   \n",
       "3              7  Low spender  Non-frequent customer  Alabama   31   \n",
       "4              7  Low spender  Non-frequent customer  Alabama   31   \n",
       "\n",
       "   number_of_dependants  income  \n",
       "0                     3   40423  \n",
       "1                     3   40423  \n",
       "2                     3   40423  \n",
       "3                     3   40423  \n",
       "4                     3   40423  "
      ]
     },
     "execution_count": 6,
     "metadata": {},
     "output_type": "execute_result"
    }
   ],
   "source": [
    "df_all_products_merged.head()"
   ]
  },
  {
   "cell_type": "code",
   "execution_count": 8,
   "id": "5e6cfe7c",
   "metadata": {},
   "outputs": [
    {
     "name": "stdout",
     "output_type": "stream",
     "text": [
      "<class 'pandas.core.frame.DataFrame'>\n",
      "Int64Index: 32404859 entries, 0 to 32404858\n",
      "Data columns (total 12 columns):\n",
      " #   Column                Dtype \n",
      "---  ------                ----- \n",
      " 0   order_id              int32 \n",
      " 1   user_id               int32 \n",
      " 2   order_number          int8  \n",
      " 3   orders_day_of_week    int8  \n",
      " 4   order_time_of_day     int8  \n",
      " 5   department_id         int8  \n",
      " 6   Spender_flag          object\n",
      " 7   frequency_flag        object\n",
      " 8   STATE                 object\n",
      " 9   Age                   int8  \n",
      " 10  number_of_dependants  int8  \n",
      " 11  income                int32 \n",
      "dtypes: int32(3), int8(6), object(3)\n",
      "memory usage: 1.5+ GB\n"
     ]
    }
   ],
   "source": [
    "df_all_products_merged.info()"
   ]
  },
  {
   "cell_type": "code",
   "execution_count": 9,
   "id": "9943952b",
   "metadata": {},
   "outputs": [],
   "source": [
    "#  create a flag that assigns a “Region” label to a user ID based on its corresponding State\n",
    "df_all_products_merged.loc[df_all_products_merged['STATE']== 'Maine', 'Region']= 'Region_1'\n",
    "df_all_products_merged.loc[df_all_products_merged['STATE']== 'New Hampshire', 'Region']= 'Region_1'\n",
    "df_all_products_merged.loc[df_all_products_merged['STATE']== 'Vermont', 'Region']= 'Region_1'\n",
    "df_all_products_merged.loc[df_all_products_merged['STATE']== 'Massachusetts', 'Region']= 'Region_1'\n",
    "df_all_products_merged.loc[df_all_products_merged['STATE']== 'Rhode Island', 'Region']= 'Region_1'\n",
    "df_all_products_merged.loc[df_all_products_merged['STATE']== 'Connecticut', 'Region']= 'Region_1'\n",
    "df_all_products_merged.loc[df_all_products_merged['STATE']== 'New York', 'Region']= 'Region_1'\n",
    "df_all_products_merged.loc[df_all_products_merged['STATE']== 'Pennsylvania', 'Region']= 'Region_1'\n",
    "df_all_products_merged.loc[df_all_products_merged['STATE']== 'New Jersey', 'Region']= 'Region_1'"
   ]
  },
  {
   "cell_type": "code",
   "execution_count": 10,
   "id": "60d58d2d",
   "metadata": {},
   "outputs": [],
   "source": [
    "#  create a flag that assigns a “Region” label to a user ID based on its corresponding State\n",
    "df_all_products_merged.loc[df_all_products_merged['STATE']== 'Wisconsin', 'Region']= 'Region_2'\n",
    "df_all_products_merged.loc[df_all_products_merged['STATE']== 'Michigan', 'Region']= 'Region_2'\n",
    "df_all_products_merged.loc[df_all_products_merged['STATE']== 'Illinois', 'Region']= 'Region_2'\n",
    "df_all_products_merged.loc[df_all_products_merged['STATE']== 'Indiana', 'Region']= 'Region_2'\n",
    "df_all_products_merged.loc[df_all_products_merged['STATE']== 'Ohio', 'Region']= 'Region_2'\n",
    "df_all_products_merged.loc[df_all_products_merged['STATE']== 'North Dakota', 'Region']= 'Region_2'\n",
    "df_all_products_merged.loc[df_all_products_merged['STATE']== 'South Dakota', 'Region']= 'Region_2'\n",
    "df_all_products_merged.loc[df_all_products_merged['STATE']== 'Nebraska', 'Region']= 'Region_2'\n",
    "df_all_products_merged.loc[df_all_products_merged['STATE']== 'Kansas', 'Region']= 'Region_2'\n",
    "df_all_products_merged.loc[df_all_products_merged['STATE']== 'Minnesota', 'Region']= 'Region_2'\n",
    "df_all_products_merged.loc[df_all_products_merged['STATE']== 'Lowa', 'Region']= 'Region_2'\n",
    "df_all_products_merged.loc[df_all_products_merged['STATE']== 'Missouri', 'Region']= 'Region_2'"
   ]
  },
  {
   "cell_type": "code",
   "execution_count": 11,
   "id": "c2ce4231",
   "metadata": {},
   "outputs": [],
   "source": [
    "#  create a flag that assigns a “Region” label to a user ID based on its corresponding State\n",
    "df_all_products_merged.loc[df_all_products_merged['STATE']== 'Delaware', 'Region']= 'Region_3'\n",
    "df_all_products_merged.loc[df_all_products_merged['STATE']== 'Maryland', 'Region']= 'Region_3'\n",
    "df_all_products_merged.loc[df_all_products_merged['STATE']== 'District of Columbia', 'Region']= 'Region_3'\n",
    "df_all_products_merged.loc[df_all_products_merged['STATE']== 'Virginia', 'Region']= 'Region_3'\n",
    "df_all_products_merged.loc[df_all_products_merged['STATE']== 'West Virginia', 'Region']= 'Region_3'\n",
    "df_all_products_merged.loc[df_all_products_merged['STATE']== 'North Carolina', 'Region']= 'Region_3'\n",
    "df_all_products_merged.loc[df_all_products_merged['STATE']== 'South Carolina', 'Region']= 'Region_3'\n",
    "df_all_products_merged.loc[df_all_products_merged['STATE']== 'Georgia', 'Region']= 'Region_3'\n",
    "df_all_products_merged.loc[df_all_products_merged['STATE']== 'Florida', 'Region']= 'Region_3'\n",
    "df_all_products_merged.loc[df_all_products_merged['STATE']== 'Kentucky', 'Region']= 'Region_3'\n",
    "df_all_products_merged.loc[df_all_products_merged['STATE']== 'Tennessee', 'Region']= 'Region_3'\n",
    "df_all_products_merged.loc[df_all_products_merged['STATE']== 'Mississippi', 'Region']= 'Region_3'\n",
    "df_all_products_merged.loc[df_all_products_merged['STATE']== 'Alabama', 'Region']= 'Region_3'\n",
    "df_all_products_merged.loc[df_all_products_merged['STATE']== 'Oklahoma', 'Region']= 'Region_3'\n",
    "df_all_products_merged.loc[df_all_products_merged['STATE']== 'Texas', 'Region']= 'Region_3'\n",
    "df_all_products_merged.loc[df_all_products_merged['STATE']== 'Arkansas', 'Region']= 'Region_3'\n",
    "df_all_products_merged.loc[df_all_products_merged['STATE']== 'Louisiana', 'Region']= 'Region_3'"
   ]
  },
  {
   "cell_type": "code",
   "execution_count": 12,
   "id": "1016dc9a",
   "metadata": {},
   "outputs": [],
   "source": [
    "#  create a flag that assigns a “Region” label to a user ID based on its corresponding State\n",
    "df_all_products_merged.loc[df_all_products_merged['STATE']== 'Idaho', 'Region']= 'Region_4'\n",
    "df_all_products_merged.loc[df_all_products_merged['STATE']== 'Montana', 'Region']= 'Region_4'\n",
    "df_all_products_merged.loc[df_all_products_merged['STATE']== 'Wyoming', 'Region']= 'Region_4'\n",
    "df_all_products_merged.loc[df_all_products_merged['STATE']== 'Nevada', 'Region']= 'Region_4'\n",
    "df_all_products_merged.loc[df_all_products_merged['STATE']== 'Utah', 'Region']= 'Region_4'\n",
    "df_all_products_merged.loc[df_all_products_merged['STATE']== 'Colorado', 'Region']= 'Region_4'\n",
    "df_all_products_merged.loc[df_all_products_merged['STATE']== 'Arizona', 'Region']= 'Region_4'\n",
    "df_all_products_merged.loc[df_all_products_merged['STATE']== 'New Mexico', 'Region']= 'Region_4'\n",
    "df_all_products_merged.loc[df_all_products_merged['STATE']== 'Alaska', 'Region']= 'Region_4'\n",
    "df_all_products_merged.loc[df_all_products_merged['STATE']== 'Washington', 'Region']= 'Region_4'\n",
    "df_all_products_merged.loc[df_all_products_merged['STATE']== 'Oregon', 'Region']= 'Region_4'\n",
    "df_all_products_merged.loc[df_all_products_merged['STATE']== 'California', 'Region']= 'Region_4'\n",
    "df_all_products_merged.loc[df_all_products_merged['STATE']== 'Hawaii', 'Region']= 'Region_4'"
   ]
  },
  {
   "cell_type": "code",
   "execution_count": 13,
   "id": "d83cb504",
   "metadata": {},
   "outputs": [
    {
     "data": {
      "text/html": [
       "<div>\n",
       "<style scoped>\n",
       "    .dataframe tbody tr th:only-of-type {\n",
       "        vertical-align: middle;\n",
       "    }\n",
       "\n",
       "    .dataframe tbody tr th {\n",
       "        vertical-align: top;\n",
       "    }\n",
       "\n",
       "    .dataframe thead th {\n",
       "        text-align: right;\n",
       "    }\n",
       "</style>\n",
       "<table border=\"1\" class=\"dataframe\">\n",
       "  <thead>\n",
       "    <tr style=\"text-align: right;\">\n",
       "      <th></th>\n",
       "      <th>order_id</th>\n",
       "      <th>user_id</th>\n",
       "      <th>order_number</th>\n",
       "      <th>orders_day_of_week</th>\n",
       "      <th>order_time_of_day</th>\n",
       "      <th>department_id</th>\n",
       "      <th>Spender_flag</th>\n",
       "      <th>frequency_flag</th>\n",
       "      <th>STATE</th>\n",
       "      <th>Age</th>\n",
       "      <th>number_of_dependants</th>\n",
       "      <th>income</th>\n",
       "      <th>Region</th>\n",
       "    </tr>\n",
       "  </thead>\n",
       "  <tbody>\n",
       "    <tr>\n",
       "      <th>0</th>\n",
       "      <td>2539329</td>\n",
       "      <td>1</td>\n",
       "      <td>1</td>\n",
       "      <td>2</td>\n",
       "      <td>8</td>\n",
       "      <td>7</td>\n",
       "      <td>Low spender</td>\n",
       "      <td>Non-frequent customer</td>\n",
       "      <td>Alabama</td>\n",
       "      <td>31</td>\n",
       "      <td>3</td>\n",
       "      <td>40423</td>\n",
       "      <td>Region_3</td>\n",
       "    </tr>\n",
       "    <tr>\n",
       "      <th>1</th>\n",
       "      <td>2398795</td>\n",
       "      <td>1</td>\n",
       "      <td>2</td>\n",
       "      <td>3</td>\n",
       "      <td>7</td>\n",
       "      <td>7</td>\n",
       "      <td>Low spender</td>\n",
       "      <td>Non-frequent customer</td>\n",
       "      <td>Alabama</td>\n",
       "      <td>31</td>\n",
       "      <td>3</td>\n",
       "      <td>40423</td>\n",
       "      <td>Region_3</td>\n",
       "    </tr>\n",
       "    <tr>\n",
       "      <th>2</th>\n",
       "      <td>473747</td>\n",
       "      <td>1</td>\n",
       "      <td>3</td>\n",
       "      <td>3</td>\n",
       "      <td>12</td>\n",
       "      <td>7</td>\n",
       "      <td>Low spender</td>\n",
       "      <td>Non-frequent customer</td>\n",
       "      <td>Alabama</td>\n",
       "      <td>31</td>\n",
       "      <td>3</td>\n",
       "      <td>40423</td>\n",
       "      <td>Region_3</td>\n",
       "    </tr>\n",
       "    <tr>\n",
       "      <th>3</th>\n",
       "      <td>2254736</td>\n",
       "      <td>1</td>\n",
       "      <td>4</td>\n",
       "      <td>4</td>\n",
       "      <td>7</td>\n",
       "      <td>7</td>\n",
       "      <td>Low spender</td>\n",
       "      <td>Non-frequent customer</td>\n",
       "      <td>Alabama</td>\n",
       "      <td>31</td>\n",
       "      <td>3</td>\n",
       "      <td>40423</td>\n",
       "      <td>Region_3</td>\n",
       "    </tr>\n",
       "    <tr>\n",
       "      <th>4</th>\n",
       "      <td>431534</td>\n",
       "      <td>1</td>\n",
       "      <td>5</td>\n",
       "      <td>4</td>\n",
       "      <td>15</td>\n",
       "      <td>7</td>\n",
       "      <td>Low spender</td>\n",
       "      <td>Non-frequent customer</td>\n",
       "      <td>Alabama</td>\n",
       "      <td>31</td>\n",
       "      <td>3</td>\n",
       "      <td>40423</td>\n",
       "      <td>Region_3</td>\n",
       "    </tr>\n",
       "  </tbody>\n",
       "</table>\n",
       "</div>"
      ],
      "text/plain": [
       "   order_id  user_id  order_number  orders_day_of_week  order_time_of_day  \\\n",
       "0   2539329        1             1                   2                  8   \n",
       "1   2398795        1             2                   3                  7   \n",
       "2    473747        1             3                   3                 12   \n",
       "3   2254736        1             4                   4                  7   \n",
       "4    431534        1             5                   4                 15   \n",
       "\n",
       "   department_id Spender_flag         frequency_flag    STATE  Age  \\\n",
       "0              7  Low spender  Non-frequent customer  Alabama   31   \n",
       "1              7  Low spender  Non-frequent customer  Alabama   31   \n",
       "2              7  Low spender  Non-frequent customer  Alabama   31   \n",
       "3              7  Low spender  Non-frequent customer  Alabama   31   \n",
       "4              7  Low spender  Non-frequent customer  Alabama   31   \n",
       "\n",
       "   number_of_dependants  income    Region  \n",
       "0                     3   40423  Region_3  \n",
       "1                     3   40423  Region_3  \n",
       "2                     3   40423  Region_3  \n",
       "3                     3   40423  Region_3  \n",
       "4                     3   40423  Region_3  "
      ]
     },
     "execution_count": 13,
     "metadata": {},
     "output_type": "execute_result"
    }
   ],
   "source": [
    "df_all_products_merged.head()"
   ]
  },
  {
   "cell_type": "code",
   "execution_count": 14,
   "id": "7b014959",
   "metadata": {},
   "outputs": [
    {
     "name": "stdout",
     "output_type": "stream",
     "text": [
      "<class 'pandas.core.frame.DataFrame'>\n",
      "Int64Index: 32404859 entries, 0 to 32404858\n",
      "Data columns (total 13 columns):\n",
      " #   Column                Dtype \n",
      "---  ------                ----- \n",
      " 0   order_id              int32 \n",
      " 1   user_id               int32 \n",
      " 2   order_number          int8  \n",
      " 3   orders_day_of_week    int8  \n",
      " 4   order_time_of_day     int8  \n",
      " 5   department_id         int8  \n",
      " 6   Spender_flag          object\n",
      " 7   frequency_flag        object\n",
      " 8   STATE                 object\n",
      " 9   Age                   int8  \n",
      " 10  number_of_dependants  int8  \n",
      " 11  income                int32 \n",
      " 12  Region                object\n",
      "dtypes: int32(3), int8(6), object(4)\n",
      "memory usage: 1.8+ GB\n"
     ]
    }
   ],
   "source": [
    "df_all_products_merged.info()"
   ]
  },
  {
   "cell_type": "code",
   "execution_count": 15,
   "id": "1b9dbd25",
   "metadata": {},
   "outputs": [],
   "source": [
    "# creating of random sample for further analysis\n",
    "np.random.seed(4)"
   ]
  },
  {
   "cell_type": "code",
   "execution_count": 16,
   "id": "7269aeae",
   "metadata": {},
   "outputs": [],
   "source": [
    "# creating a list holding True/false values to the test np.randon.rant () <= 0.7\n",
    "dev = np.random.rand(len(df_all_products_merged)) <= 0.7"
   ]
  },
  {
   "cell_type": "code",
   "execution_count": 17,
   "id": "d26c56ed",
   "metadata": {},
   "outputs": [
    {
     "data": {
      "text/plain": [
       "array([False,  True, False, ...,  True,  True,  True])"
      ]
     },
     "execution_count": 17,
     "metadata": {},
     "output_type": "execute_result"
    }
   ],
   "source": [
    "dev"
   ]
  },
  {
   "cell_type": "code",
   "execution_count": 18,
   "id": "f6789777",
   "metadata": {},
   "outputs": [
    {
     "data": {
      "text/plain": [
       "array([0.93546686, 0.06557465, 0.85698584, 0.24456371, 0.22683171,\n",
       "       0.17068366, 0.27008946, 0.52534234, 0.83151571, 0.78153402])"
      ]
     },
     "execution_count": 18,
     "metadata": {},
     "output_type": "execute_result"
    }
   ],
   "source": [
    "np.random.rand(10)"
   ]
  },
  {
   "cell_type": "code",
   "execution_count": 19,
   "id": "aa404b88",
   "metadata": {},
   "outputs": [],
   "source": [
    "# storing 70% of the sample in the dataframe big\n",
    "big = df_all_products_merged[dev]"
   ]
  },
  {
   "cell_type": "code",
   "execution_count": 20,
   "id": "18fa32dd",
   "metadata": {},
   "outputs": [],
   "source": [
    "# storing 30% of the sample in the dataframe small\n",
    "small = df_all_products_merged[~dev]"
   ]
  },
  {
   "cell_type": "code",
   "execution_count": 21,
   "id": "8ccfe7d1",
   "metadata": {},
   "outputs": [
    {
     "name": "stdout",
     "output_type": "stream",
     "text": [
      "<class 'pandas.core.frame.DataFrame'>\n",
      "Int64Index: 22683761 entries, 1 to 32404858\n",
      "Data columns (total 13 columns):\n",
      " #   Column                Dtype \n",
      "---  ------                ----- \n",
      " 0   order_id              int32 \n",
      " 1   user_id               int32 \n",
      " 2   order_number          int8  \n",
      " 3   orders_day_of_week    int8  \n",
      " 4   order_time_of_day     int8  \n",
      " 5   department_id         int8  \n",
      " 6   Spender_flag          object\n",
      " 7   frequency_flag        object\n",
      " 8   STATE                 object\n",
      " 9   Age                   int8  \n",
      " 10  number_of_dependants  int8  \n",
      " 11  income                int32 \n",
      " 12  Region                object\n",
      "dtypes: int32(3), int8(6), object(4)\n",
      "memory usage: 1.2+ GB\n"
     ]
    }
   ],
   "source": [
    "big.info()"
   ]
  },
  {
   "cell_type": "code",
   "execution_count": 22,
   "id": "2c3a3f4c",
   "metadata": {},
   "outputs": [
    {
     "name": "stdout",
     "output_type": "stream",
     "text": [
      "<class 'pandas.core.frame.DataFrame'>\n",
      "Int64Index: 9721098 entries, 0 to 32404850\n",
      "Data columns (total 13 columns):\n",
      " #   Column                Dtype \n",
      "---  ------                ----- \n",
      " 0   order_id              int32 \n",
      " 1   user_id               int32 \n",
      " 2   order_number          int8  \n",
      " 3   orders_day_of_week    int8  \n",
      " 4   order_time_of_day     int8  \n",
      " 5   department_id         int8  \n",
      " 6   Spender_flag          object\n",
      " 7   frequency_flag        object\n",
      " 8   STATE                 object\n",
      " 9   Age                   int8  \n",
      " 10  number_of_dependants  int8  \n",
      " 11  income                int32 \n",
      " 12  Region                object\n",
      "dtypes: int32(3), int8(6), object(4)\n",
      "memory usage: 537.7+ MB\n"
     ]
    }
   ],
   "source": [
    "small.info()"
   ]
  },
  {
   "cell_type": "code",
   "execution_count": 32,
   "id": "26eb676e",
   "metadata": {},
   "outputs": [],
   "source": [
    "df_1 = small[['Spender_flag','Region']]"
   ]
  },
  {
   "cell_type": "code",
   "execution_count": 34,
   "id": "cca9b6b6",
   "metadata": {},
   "outputs": [
    {
     "data": {
      "image/png": "[encoded data removed]",
      "text/plain": [
       "<Figure size 432x288 with 1 Axes>"
      ]
     },
     "metadata": {
      "needs_background": "light"
     },
     "output_type": "display_data"
    }
   ],
   "source": [
    "# creating a line graph for the regions aginst the spender_flag\n",
    "line_1 = sns.lineplot(data =df_1,y ='Spender_flag',x='Region')"
   ]
  },
  {
   "cell_type": "code",
   "execution_count": 35,
   "id": "f6b809ac",
   "metadata": {},
   "outputs": [],
   "source": [
    "# saving the line graph as png in the file\n",
    "line_1.figure.savefig(os.path.join(path, '04 Analysis','Visualizations', 'line_1_spender_Flag_vs_Regions.png'))"
   ]
  },
  {
   "cell_type": "markdown",
   "id": "cb699b1e",
   "metadata": {},
   "source": [
    "3.Creating exclusive flag for low_activity_customers"
   ]
  },
  {
   "cell_type": "code",
   "execution_count": 25,
   "id": "1241987c",
   "metadata": {},
   "outputs": [],
   "source": [
    "#  create a flag that assigns a “Exclusive_flag” label to low_activity_customers based on the order_numbers\n",
    "small = small[small.order_number >= 5]"
   ]
  },
  {
   "cell_type": "code",
   "execution_count": 26,
   "id": "150bb979",
   "metadata": {},
   "outputs": [
    {
     "data": {
      "text/html": [
       "<div>\n",
       "<style scoped>\n",
       "    .dataframe tbody tr th:only-of-type {\n",
       "        vertical-align: middle;\n",
       "    }\n",
       "\n",
       "    .dataframe tbody tr th {\n",
       "        vertical-align: top;\n",
       "    }\n",
       "\n",
       "    .dataframe thead th {\n",
       "        text-align: right;\n",
       "    }\n",
       "</style>\n",
       "<table border=\"1\" class=\"dataframe\">\n",
       "  <thead>\n",
       "    <tr style=\"text-align: right;\">\n",
       "      <th></th>\n",
       "      <th>order_id</th>\n",
       "      <th>user_id</th>\n",
       "      <th>order_number</th>\n",
       "      <th>orders_day_of_week</th>\n",
       "      <th>order_time_of_day</th>\n",
       "      <th>department_id</th>\n",
       "      <th>Spender_flag</th>\n",
       "      <th>frequency_flag</th>\n",
       "      <th>STATE</th>\n",
       "      <th>Age</th>\n",
       "      <th>number_of_dependants</th>\n",
       "      <th>income</th>\n",
       "      <th>Region</th>\n",
       "    </tr>\n",
       "  </thead>\n",
       "  <tbody>\n",
       "    <tr>\n",
       "      <th>6</th>\n",
       "      <td>550135</td>\n",
       "      <td>1</td>\n",
       "      <td>7</td>\n",
       "      <td>1</td>\n",
       "      <td>9</td>\n",
       "      <td>7</td>\n",
       "      <td>Low spender</td>\n",
       "      <td>Non-frequent customer</td>\n",
       "      <td>Alabama</td>\n",
       "      <td>31</td>\n",
       "      <td>3</td>\n",
       "      <td>40423</td>\n",
       "      <td>Region_3</td>\n",
       "    </tr>\n",
       "    <tr>\n",
       "      <th>19</th>\n",
       "      <td>2295261</td>\n",
       "      <td>1</td>\n",
       "      <td>9</td>\n",
       "      <td>1</td>\n",
       "      <td>16</td>\n",
       "      <td>19</td>\n",
       "      <td>Low spender</td>\n",
       "      <td>Non-frequent customer</td>\n",
       "      <td>Alabama</td>\n",
       "      <td>31</td>\n",
       "      <td>3</td>\n",
       "      <td>40423</td>\n",
       "      <td>Region_3</td>\n",
       "    </tr>\n",
       "    <tr>\n",
       "      <th>28</th>\n",
       "      <td>431534</td>\n",
       "      <td>1</td>\n",
       "      <td>5</td>\n",
       "      <td>4</td>\n",
       "      <td>15</td>\n",
       "      <td>19</td>\n",
       "      <td>Low spender</td>\n",
       "      <td>Non-frequent customer</td>\n",
       "      <td>Alabama</td>\n",
       "      <td>31</td>\n",
       "      <td>3</td>\n",
       "      <td>40423</td>\n",
       "      <td>Region_3</td>\n",
       "    </tr>\n",
       "    <tr>\n",
       "      <th>31</th>\n",
       "      <td>3108588</td>\n",
       "      <td>1</td>\n",
       "      <td>8</td>\n",
       "      <td>1</td>\n",
       "      <td>14</td>\n",
       "      <td>19</td>\n",
       "      <td>Low spender</td>\n",
       "      <td>Non-frequent customer</td>\n",
       "      <td>Alabama</td>\n",
       "      <td>31</td>\n",
       "      <td>3</td>\n",
       "      <td>40423</td>\n",
       "      <td>Region_3</td>\n",
       "    </tr>\n",
       "    <tr>\n",
       "      <th>42</th>\n",
       "      <td>3367565</td>\n",
       "      <td>1</td>\n",
       "      <td>6</td>\n",
       "      <td>2</td>\n",
       "      <td>7</td>\n",
       "      <td>16</td>\n",
       "      <td>Low spender</td>\n",
       "      <td>Non-frequent customer</td>\n",
       "      <td>Alabama</td>\n",
       "      <td>31</td>\n",
       "      <td>3</td>\n",
       "      <td>40423</td>\n",
       "      <td>Region_3</td>\n",
       "    </tr>\n",
       "    <tr>\n",
       "      <th>...</th>\n",
       "      <td>...</td>\n",
       "      <td>...</td>\n",
       "      <td>...</td>\n",
       "      <td>...</td>\n",
       "      <td>...</td>\n",
       "      <td>...</td>\n",
       "      <td>...</td>\n",
       "      <td>...</td>\n",
       "      <td>...</td>\n",
       "      <td>...</td>\n",
       "      <td>...</td>\n",
       "      <td>...</td>\n",
       "      <td>...</td>\n",
       "    </tr>\n",
       "    <tr>\n",
       "      <th>32404841</th>\n",
       "      <td>1806098</td>\n",
       "      <td>106143</td>\n",
       "      <td>13</td>\n",
       "      <td>2</td>\n",
       "      <td>12</td>\n",
       "      <td>7</td>\n",
       "      <td>High spender</td>\n",
       "      <td>Frequent customer</td>\n",
       "      <td>Hawaii</td>\n",
       "      <td>25</td>\n",
       "      <td>0</td>\n",
       "      <td>53755</td>\n",
       "      <td>Region_4</td>\n",
       "    </tr>\n",
       "    <tr>\n",
       "      <th>32404842</th>\n",
       "      <td>131426</td>\n",
       "      <td>106143</td>\n",
       "      <td>14</td>\n",
       "      <td>6</td>\n",
       "      <td>3</td>\n",
       "      <td>7</td>\n",
       "      <td>High spender</td>\n",
       "      <td>Frequent customer</td>\n",
       "      <td>Hawaii</td>\n",
       "      <td>25</td>\n",
       "      <td>0</td>\n",
       "      <td>53755</td>\n",
       "      <td>Region_4</td>\n",
       "    </tr>\n",
       "    <tr>\n",
       "      <th>32404843</th>\n",
       "      <td>2267896</td>\n",
       "      <td>106143</td>\n",
       "      <td>15</td>\n",
       "      <td>0</td>\n",
       "      <td>1</td>\n",
       "      <td>7</td>\n",
       "      <td>High spender</td>\n",
       "      <td>Frequent customer</td>\n",
       "      <td>Hawaii</td>\n",
       "      <td>25</td>\n",
       "      <td>0</td>\n",
       "      <td>53755</td>\n",
       "      <td>Region_4</td>\n",
       "    </tr>\n",
       "    <tr>\n",
       "      <th>32404849</th>\n",
       "      <td>1539810</td>\n",
       "      <td>106143</td>\n",
       "      <td>21</td>\n",
       "      <td>1</td>\n",
       "      <td>18</td>\n",
       "      <td>7</td>\n",
       "      <td>High spender</td>\n",
       "      <td>Frequent customer</td>\n",
       "      <td>Hawaii</td>\n",
       "      <td>25</td>\n",
       "      <td>0</td>\n",
       "      <td>53755</td>\n",
       "      <td>Region_4</td>\n",
       "    </tr>\n",
       "    <tr>\n",
       "      <th>32404850</th>\n",
       "      <td>3308056</td>\n",
       "      <td>106143</td>\n",
       "      <td>22</td>\n",
       "      <td>4</td>\n",
       "      <td>20</td>\n",
       "      <td>7</td>\n",
       "      <td>High spender</td>\n",
       "      <td>Frequent customer</td>\n",
       "      <td>Hawaii</td>\n",
       "      <td>25</td>\n",
       "      <td>0</td>\n",
       "      <td>53755</td>\n",
       "      <td>Region_4</td>\n",
       "    </tr>\n",
       "  </tbody>\n",
       "</table>\n",
       "<p>7322981 rows × 13 columns</p>\n",
       "</div>"
      ],
      "text/plain": [
       "          order_id  user_id  order_number  orders_day_of_week  \\\n",
       "6           550135        1             7                   1   \n",
       "19         2295261        1             9                   1   \n",
       "28          431534        1             5                   4   \n",
       "31         3108588        1             8                   1   \n",
       "42         3367565        1             6                   2   \n",
       "...            ...      ...           ...                 ...   \n",
       "32404841   1806098   106143            13                   2   \n",
       "32404842    131426   106143            14                   6   \n",
       "32404843   2267896   106143            15                   0   \n",
       "32404849   1539810   106143            21                   1   \n",
       "32404850   3308056   106143            22                   4   \n",
       "\n",
       "          order_time_of_day  department_id  Spender_flag  \\\n",
       "6                         9              7   Low spender   \n",
       "19                       16             19   Low spender   \n",
       "28                       15             19   Low spender   \n",
       "31                       14             19   Low spender   \n",
       "42                        7             16   Low spender   \n",
       "...                     ...            ...           ...   \n",
       "32404841                 12              7  High spender   \n",
       "32404842                  3              7  High spender   \n",
       "32404843                  1              7  High spender   \n",
       "32404849                 18              7  High spender   \n",
       "32404850                 20              7  High spender   \n",
       "\n",
       "                 frequency_flag    STATE  Age  number_of_dependants  income  \\\n",
       "6         Non-frequent customer  Alabama   31                     3   40423   \n",
       "19        Non-frequent customer  Alabama   31                     3   40423   \n",
       "28        Non-frequent customer  Alabama   31                     3   40423   \n",
       "31        Non-frequent customer  Alabama   31                     3   40423   \n",
       "42        Non-frequent customer  Alabama   31                     3   40423   \n",
       "...                         ...      ...  ...                   ...     ...   \n",
       "32404841      Frequent customer   Hawaii   25                     0   53755   \n",
       "32404842      Frequent customer   Hawaii   25                     0   53755   \n",
       "32404843      Frequent customer   Hawaii   25                     0   53755   \n",
       "32404849      Frequent customer   Hawaii   25                     0   53755   \n",
       "32404850      Frequent customer   Hawaii   25                     0   53755   \n",
       "\n",
       "            Region  \n",
       "6         Region_3  \n",
       "19        Region_3  \n",
       "28        Region_3  \n",
       "31        Region_3  \n",
       "42        Region_3  \n",
       "...            ...  \n",
       "32404841  Region_4  \n",
       "32404842  Region_4  \n",
       "32404843  Region_4  \n",
       "32404849  Region_4  \n",
       "32404850  Region_4  \n",
       "\n",
       "[7322981 rows x 13 columns]"
      ]
     },
     "execution_count": 26,
     "metadata": {},
     "output_type": "execute_result"
    }
   ],
   "source": [
    "small"
   ]
  },
  {
   "cell_type": "code",
   "execution_count": 27,
   "id": "72c20d97",
   "metadata": {},
   "outputs": [
    {
     "name": "stdout",
     "output_type": "stream",
     "text": [
      "<class 'pandas.core.frame.DataFrame'>\n",
      "Int64Index: 7322981 entries, 6 to 32404850\n",
      "Data columns (total 13 columns):\n",
      " #   Column                Dtype \n",
      "---  ------                ----- \n",
      " 0   order_id              int32 \n",
      " 1   user_id               int32 \n",
      " 2   order_number          int8  \n",
      " 3   orders_day_of_week    int8  \n",
      " 4   order_time_of_day     int8  \n",
      " 5   department_id         int8  \n",
      " 6   Spender_flag          object\n",
      " 7   frequency_flag        object\n",
      " 8   STATE                 object\n",
      " 9   Age                   int8  \n",
      " 10  number_of_dependants  int8  \n",
      " 11  income                int32 \n",
      " 12  Region                object\n",
      "dtypes: int32(3), int8(6), object(4)\n",
      "memory usage: 405.1+ MB\n"
     ]
    }
   ],
   "source": [
    "small.info()"
   ]
  },
  {
   "cell_type": "code",
   "execution_count": 28,
   "id": "24970f8f",
   "metadata": {},
   "outputs": [],
   "source": [
    "# exporting the small as Pickle\n",
    "small.to_pickle(os.path.join(path, '02 Data','Prepared Data', 'Exclusive_flag.pkl'))"
   ]
  },
  {
   "cell_type": "code",
   "execution_count": null,
   "id": "afa6cd06",
   "metadata": {},
   "outputs": [],
   "source": []
  }
 ],
 "metadata": {
  "kernelspec": {
   "display_name": "Python 3 (ipykernel)",
   "language": "python",
   "name": "python3"
  },
  "language_info": {
   "codemirror_mode": {
    "name": "ipython",
    "version": 3
   },
   "file_extension": ".py",
   "mimetype": "text/x-python",
   "name": "python",
   "nbconvert_exporter": "python",
   "pygments_lexer": "ipython3",
   "version": "3.9.12"
  }
 },
 "nbformat": 4,
 "nbformat_minor": 5
}
