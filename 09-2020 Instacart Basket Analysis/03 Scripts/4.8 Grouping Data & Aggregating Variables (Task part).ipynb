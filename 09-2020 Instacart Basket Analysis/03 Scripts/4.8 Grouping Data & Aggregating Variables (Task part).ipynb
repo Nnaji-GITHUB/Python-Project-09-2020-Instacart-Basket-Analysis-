{
 "cells": [
  {
   "cell_type": "markdown",
   "id": "b2712125",
   "metadata": {},
   "source": [
    "# Importing libraries"
   ]
  },
  {
   "cell_type": "code",
   "execution_count": 1,
   "id": "64a884a4",
   "metadata": {},
   "outputs": [],
   "source": [
    "# import libraries\n",
    "import pandas as pd\n",
    "import numpy as np\n",
    "import os"
   ]
  },
  {
   "cell_type": "code",
   "execution_count": null,
   "id": "2a54552c",
   "metadata": {},
   "outputs": [],
   "source": [
    "# Using path method to import the order_products_merged_with_new_column \n",
    "\"C:\\Users\\Peter\\Desktop\\Data Analytics documents\\Data Immersion\\Achievement 4\\09-2020 Instacart Basket Analysis\""
   ]
  },
  {
   "cell_type": "code",
   "execution_count": 2,
   "id": "2113568c",
   "metadata": {},
   "outputs": [],
   "source": [
    "path = r\"C:\\Users\\Peter\\Desktop\\Data Analytics documents\\Data Immersion\\Achievement 4\\09-2020 Instacart Basket Analysis\""
   ]
  },
  {
   "cell_type": "code",
   "execution_count": 3,
   "id": "f3d33499",
   "metadata": {},
   "outputs": [
    {
     "data": {
      "text/plain": [
       "'C:\\\\Users\\\\Peter\\\\Desktop\\\\Data Analytics documents\\\\Data Immersion\\\\Achievement 4\\\\09-2020 Instacart Basket Analysis'"
      ]
     },
     "execution_count": 3,
     "metadata": {},
     "output_type": "execute_result"
    }
   ],
   "source": [
    "path"
   ]
  },
  {
   "cell_type": "code",
   "execution_count": 4,
   "id": "c414fea5",
   "metadata": {},
   "outputs": [],
   "source": [
    "# imported the orders_products_merged_with_new_column pkl file\n",
    "df_ords_prods_merge = pd.read_pickle(os.path.join(path,'02 Data','Prepared Data','ords_prods_merged_with_new_column.pkl'))"
   ]
  },
  {
   "cell_type": "markdown",
   "id": "0aba1dab",
   "metadata": {},
   "source": [
    "# Task 1: Aggregating mean"
   ]
  },
  {
   "cell_type": "code",
   "execution_count": 5,
   "id": "677be02f",
   "metadata": {},
   "outputs": [
    {
     "data": {
      "text/plain": [
       "<pandas.core.groupby.generic.DataFrameGroupBy object at 0x000001F297328040>"
      ]
     },
     "execution_count": 5,
     "metadata": {},
     "output_type": "execute_result"
    }
   ],
   "source": [
    "# grouping the departmet_column\n",
    "df_ords_prods_merge.groupby('product_name')"
   ]
  },
  {
   "cell_type": "code",
   "execution_count": 6,
   "id": "0fe6f5a1",
   "metadata": {},
   "outputs": [
    {
     "data": {
      "text/html": [
       "<div>\n",
       "<style scoped>\n",
       "    .dataframe tbody tr th:only-of-type {\n",
       "        vertical-align: middle;\n",
       "    }\n",
       "\n",
       "    .dataframe tbody tr th {\n",
       "        vertical-align: top;\n",
       "    }\n",
       "\n",
       "    .dataframe thead tr th {\n",
       "        text-align: left;\n",
       "    }\n",
       "\n",
       "    .dataframe thead tr:last-of-type th {\n",
       "        text-align: right;\n",
       "    }\n",
       "</style>\n",
       "<table border=\"1\" class=\"dataframe\">\n",
       "  <thead>\n",
       "    <tr>\n",
       "      <th></th>\n",
       "      <th>order_number</th>\n",
       "    </tr>\n",
       "    <tr>\n",
       "      <th></th>\n",
       "      <th>mean</th>\n",
       "    </tr>\n",
       "    <tr>\n",
       "      <th>department_id</th>\n",
       "      <th></th>\n",
       "    </tr>\n",
       "  </thead>\n",
       "  <tbody>\n",
       "    <tr>\n",
       "      <th>1</th>\n",
       "      <td>15.457838</td>\n",
       "    </tr>\n",
       "    <tr>\n",
       "      <th>2</th>\n",
       "      <td>17.277920</td>\n",
       "    </tr>\n",
       "    <tr>\n",
       "      <th>3</th>\n",
       "      <td>17.170395</td>\n",
       "    </tr>\n",
       "    <tr>\n",
       "      <th>4</th>\n",
       "      <td>17.811403</td>\n",
       "    </tr>\n",
       "    <tr>\n",
       "      <th>5</th>\n",
       "      <td>15.215751</td>\n",
       "    </tr>\n",
       "    <tr>\n",
       "      <th>6</th>\n",
       "      <td>16.439806</td>\n",
       "    </tr>\n",
       "    <tr>\n",
       "      <th>7</th>\n",
       "      <td>17.225802</td>\n",
       "    </tr>\n",
       "    <tr>\n",
       "      <th>8</th>\n",
       "      <td>15.340650</td>\n",
       "    </tr>\n",
       "    <tr>\n",
       "      <th>9</th>\n",
       "      <td>15.895474</td>\n",
       "    </tr>\n",
       "    <tr>\n",
       "      <th>10</th>\n",
       "      <td>20.197148</td>\n",
       "    </tr>\n",
       "    <tr>\n",
       "      <th>11</th>\n",
       "      <td>16.170638</td>\n",
       "    </tr>\n",
       "    <tr>\n",
       "      <th>12</th>\n",
       "      <td>15.887671</td>\n",
       "    </tr>\n",
       "    <tr>\n",
       "      <th>13</th>\n",
       "      <td>16.583536</td>\n",
       "    </tr>\n",
       "    <tr>\n",
       "      <th>14</th>\n",
       "      <td>16.773669</td>\n",
       "    </tr>\n",
       "    <tr>\n",
       "      <th>15</th>\n",
       "      <td>16.165037</td>\n",
       "    </tr>\n",
       "    <tr>\n",
       "      <th>16</th>\n",
       "      <td>17.665606</td>\n",
       "    </tr>\n",
       "    <tr>\n",
       "      <th>17</th>\n",
       "      <td>15.694469</td>\n",
       "    </tr>\n",
       "    <tr>\n",
       "      <th>18</th>\n",
       "      <td>19.310397</td>\n",
       "    </tr>\n",
       "    <tr>\n",
       "      <th>19</th>\n",
       "      <td>17.177343</td>\n",
       "    </tr>\n",
       "    <tr>\n",
       "      <th>20</th>\n",
       "      <td>16.473447</td>\n",
       "    </tr>\n",
       "    <tr>\n",
       "      <th>21</th>\n",
       "      <td>22.902379</td>\n",
       "    </tr>\n",
       "  </tbody>\n",
       "</table>\n",
       "</div>"
      ],
      "text/plain": [
       "              order_number\n",
       "                      mean\n",
       "department_id             \n",
       "1                15.457838\n",
       "2                17.277920\n",
       "3                17.170395\n",
       "4                17.811403\n",
       "5                15.215751\n",
       "6                16.439806\n",
       "7                17.225802\n",
       "8                15.340650\n",
       "9                15.895474\n",
       "10               20.197148\n",
       "11               16.170638\n",
       "12               15.887671\n",
       "13               16.583536\n",
       "14               16.773669\n",
       "15               16.165037\n",
       "16               17.665606\n",
       "17               15.694469\n",
       "18               19.310397\n",
       "19               17.177343\n",
       "20               16.473447\n",
       "21               22.902379"
      ]
     },
     "execution_count": 6,
     "metadata": {},
     "output_type": "execute_result"
    }
   ],
   "source": [
    "# Performing statistic(aggregating the order_number column with mean value)\n",
    "df_ords_prods_merge.groupby('department_id').agg({'order_number': ['mean']})"
   ]
  },
  {
   "cell_type": "markdown",
   "id": "f571aa41",
   "metadata": {},
   "source": [
    "froom the above result, i observered that in the subset result, the department(17) has the lowest order_number_mean, while in the entire dataframe the lowest order_number_mean is department(5). While the subset printed only 8 department result, but in the entire dataframe, all the departmet was printed. "
   ]
  },
  {
   "cell_type": "markdown",
   "id": "5f081bbb",
   "metadata": {},
   "source": [
    "# Task 2: Using the loyalty flag we created in exercise part to check the basic statistics of the product prices for each loyalty category"
   ]
  },
  {
   "cell_type": "code",
   "execution_count": 7,
   "id": "2f7e1805",
   "metadata": {},
   "outputs": [],
   "source": [
    "# creating a flag for customers with maximum others\n",
    "df_ords_prods_merge['max_order'] = df_ords_prods_merge.groupby(['user_id'])['order_number'].transform(np.max)"
   ]
  },
  {
   "cell_type": "code",
   "execution_count": 8,
   "id": "209bb584",
   "metadata": {},
   "outputs": [],
   "source": [
    "#  create a flag that assigns a “loyalty” label to a user ID based on its corresponding max order value\n",
    "df_ords_prods_merge.loc[df_ords_prods_merge['max_order'] > 40, 'loyalty_flag'] = 'Loyal customer'\n",
    "df_ords_prods_merge.loc[(df_ords_prods_merge['max_order'] <= 40) & (df_ords_prods_merge['max_order'] > 10), 'loyalty_flag'] = 'Regular customer'\n",
    "df_ords_prods_merge.loc[df_ords_prods_merge['max_order'] <= 10, 'loyalty_flag'] = 'New customer'"
   ]
  },
  {
   "cell_type": "code",
   "execution_count": 9,
   "id": "5300a949",
   "metadata": {},
   "outputs": [
    {
     "data": {
      "text/html": [
       "<div>\n",
       "<style scoped>\n",
       "    .dataframe tbody tr th:only-of-type {\n",
       "        vertical-align: middle;\n",
       "    }\n",
       "\n",
       "    .dataframe tbody tr th {\n",
       "        vertical-align: top;\n",
       "    }\n",
       "\n",
       "    .dataframe thead tr th {\n",
       "        text-align: left;\n",
       "    }\n",
       "\n",
       "    .dataframe thead tr:last-of-type th {\n",
       "        text-align: right;\n",
       "    }\n",
       "</style>\n",
       "<table border=\"1\" class=\"dataframe\">\n",
       "  <thead>\n",
       "    <tr>\n",
       "      <th></th>\n",
       "      <th colspan=\"3\" halign=\"left\">prices</th>\n",
       "    </tr>\n",
       "    <tr>\n",
       "      <th></th>\n",
       "      <th>mean</th>\n",
       "      <th>min</th>\n",
       "      <th>max</th>\n",
       "    </tr>\n",
       "    <tr>\n",
       "      <th>loyalty_flag</th>\n",
       "      <th></th>\n",
       "      <th></th>\n",
       "      <th></th>\n",
       "    </tr>\n",
       "  </thead>\n",
       "  <tbody>\n",
       "    <tr>\n",
       "      <th>Loyal customer</th>\n",
       "      <td>NaN</td>\n",
       "      <td>1.0</td>\n",
       "      <td>inf</td>\n",
       "    </tr>\n",
       "    <tr>\n",
       "      <th>New customer</th>\n",
       "      <td>NaN</td>\n",
       "      <td>1.0</td>\n",
       "      <td>inf</td>\n",
       "    </tr>\n",
       "    <tr>\n",
       "      <th>Regular customer</th>\n",
       "      <td>NaN</td>\n",
       "      <td>1.0</td>\n",
       "      <td>inf</td>\n",
       "    </tr>\n",
       "  </tbody>\n",
       "</table>\n",
       "</div>"
      ],
      "text/plain": [
       "                 prices          \n",
       "                   mean  min  max\n",
       "loyalty_flag                     \n",
       "Loyal customer      NaN  1.0  inf\n",
       "New customer        NaN  1.0  inf\n",
       "Regular customer    NaN  1.0  inf"
      ]
     },
     "execution_count": 9,
     "metadata": {},
     "output_type": "execute_result"
    }
   ],
   "source": [
    "# performing multiple aggregation \n",
    "df_ords_prods_merge.groupby('loyalty_flag').agg({'prices': ['mean', 'min', 'max']})"
   ]
  },
  {
   "cell_type": "markdown",
   "id": "33c35e5e",
   "metadata": {},
   "source": [
    "# Task 3: Creating a spending flag for each user based on the average price across all their orders "
   ]
  },
  {
   "cell_type": "code",
   "execution_count": 10,
   "id": "a5923bef",
   "metadata": {},
   "outputs": [],
   "source": [
    "# creating a flag for average price of customers \n",
    "df_ords_prods_merge['Average_price'] = df_ords_prods_merge.groupby(['user_id'])['prices'].transform(np.mean)"
   ]
  },
  {
   "cell_type": "code",
   "execution_count": 11,
   "id": "dc64a0f9",
   "metadata": {},
   "outputs": [
    {
     "data": {
      "text/plain": [
       "0     6.367188\n",
       "1     6.367188\n",
       "2     6.367188\n",
       "3     6.367188\n",
       "4     6.367188\n",
       "5     6.367188\n",
       "6     6.367188\n",
       "7     6.367188\n",
       "8     6.367188\n",
       "9     6.367188\n",
       "10    3.980469\n",
       "11    3.980469\n",
       "12    3.980469\n",
       "13    3.980469\n",
       "14    3.980469\n",
       "Name: Average_price, dtype: float16"
      ]
     },
     "execution_count": 11,
     "metadata": {},
     "output_type": "execute_result"
    }
   ],
   "source": [
    "df_ords_prods_merge['Average_price'].head(15)"
   ]
  },
  {
   "cell_type": "code",
   "execution_count": 12,
   "id": "d16b644c",
   "metadata": {},
   "outputs": [],
   "source": [
    "#  create a flag that assigns a “Average_price” label to a user ID based on its corresponding mean value\n",
    "df_ords_prods_merge.loc[df_ords_prods_merge['Average_price'] < 10, 'Spender_flag'] = 'Low spender'\n",
    "df_ords_prods_merge.loc[df_ords_prods_merge['Average_price'] >= 10,'Spender_flag'] = 'High spender'"
   ]
  },
  {
   "cell_type": "markdown",
   "id": "2280685c",
   "metadata": {},
   "source": [
    "# Task 4: Creating an order frequency flag that marks the regularity of a user’s ordering behavior according to the median in the “days_since_prior_order” column"
   ]
  },
  {
   "cell_type": "code",
   "execution_count": 14,
   "id": "0546ed5d",
   "metadata": {},
   "outputs": [],
   "source": [
    "# creating a flag for customers with many others\n",
    "df_ords_prods_merge['median'] = df_ords_prods_merge.groupby(['user_id'])['days_since_prior_order'].transform(np.median)"
   ]
  },
  {
   "cell_type": "code",
   "execution_count": 15,
   "id": "d12c96e8",
   "metadata": {},
   "outputs": [
    {
     "data": {
      "text/plain": [
       "0     20.5\n",
       "1     20.5\n",
       "2     20.5\n",
       "3     20.5\n",
       "4     20.5\n",
       "5     20.5\n",
       "6     20.5\n",
       "7     20.5\n",
       "8     20.5\n",
       "9     20.5\n",
       "10    10.0\n",
       "11    10.0\n",
       "12    10.0\n",
       "13    10.0\n",
       "14    10.0\n",
       "Name: median, dtype: float16"
      ]
     },
     "execution_count": 15,
     "metadata": {},
     "output_type": "execute_result"
    }
   ],
   "source": [
    "df_ords_prods_merge['median'].head(15)"
   ]
  },
  {
   "cell_type": "code",
   "execution_count": 16,
   "id": "f715783b",
   "metadata": {},
   "outputs": [],
   "source": [
    "#  create a flag that assigns a “frequency” label to a user ID based on its corresponding median value\n",
    "df_ords_prods_merge.loc[df_ords_prods_merge['median'] > 20, 'frequency_flag'] = 'Non-frequent customer'\n",
    "df_ords_prods_merge.loc[(df_ords_prods_merge['median'] <= 20) & (df_ords_prods_merge['median'] > 10), 'frequency_flag'] = 'Regular customer'\n",
    "df_ords_prods_merge.loc[df_ords_prods_merge['median'] <= 10, 'frequency_flag'] = 'Frequent customer'"
   ]
  },
  {
   "cell_type": "code",
   "execution_count": 18,
   "id": "2d3e4dfc",
   "metadata": {},
   "outputs": [],
   "source": [
    "# exporting the df_merged_grouped as Pickle\n",
    "df_ords_prods_merge.to_pickle(os.path.join(path, '02 Data','Prepared Data', 'ords_prods_merged_with_and_grouped.pkl'))"
   ]
  },
  {
   "cell_type": "code",
   "execution_count": null,
   "id": "1120fb17",
   "metadata": {},
   "outputs": [],
   "source": []
  }
 ],
 "metadata": {
  "kernelspec": {
   "display_name": "Python 3 (ipykernel)",
   "language": "python",
   "name": "python3"
  },
  "language_info": {
   "codemirror_mode": {
    "name": "ipython",
    "version": 3
   },
   "file_extension": ".py",
   "mimetype": "text/x-python",
   "name": "python",
   "nbconvert_exporter": "python",
   "pygments_lexer": "ipython3",
   "version": "3.9.12"
  }
 },
 "nbformat": 4,
 "nbformat_minor": 5
}
