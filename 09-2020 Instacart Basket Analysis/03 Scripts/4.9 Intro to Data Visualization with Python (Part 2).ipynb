{
 "cells": [
  {
   "cell_type": "markdown",
   "id": "38bfce98",
   "metadata": {},
   "source": [
    "# Importing libraries"
   ]
  },
  {
   "cell_type": "code",
   "execution_count": 1,
   "id": "c59d5816",
   "metadata": {},
   "outputs": [],
   "source": [
    "import pandas as pd\n",
    "import numpy as np\n",
    "import os\n",
    "import matplotlib.pyplot as plt\n",
    "import seaborn as sns\n",
    "import scipy"
   ]
  },
  {
   "cell_type": "markdown",
   "id": "b620c262",
   "metadata": {},
   "source": [
    "# Importing Data set"
   ]
  },
  {
   "cell_type": "code",
   "execution_count": null,
   "id": "b0b7af18",
   "metadata": {},
   "outputs": [],
   "source": [
    "# Using path method to import data\n",
    "\"C:\\Users\\Peter\\Desktop\\Data Analytics documents\\Data Immersion\\Achievement 4\\09-2020 Instacart Basket Analysis\""
   ]
  },
  {
   "cell_type": "code",
   "execution_count": 2,
   "id": "f9b73fe7",
   "metadata": {},
   "outputs": [],
   "source": [
    "path = r\"C:\\Users\\Peter\\Desktop\\Data Analytics documents\\Data Immersion\\Achievement 4\\09-2020 Instacart Basket Analysis\""
   ]
  },
  {
   "cell_type": "code",
   "execution_count": 3,
   "id": "e982811b",
   "metadata": {},
   "outputs": [
    {
     "data": {
      "text/plain": [
       "'C:\\\\Users\\\\Peter\\\\Desktop\\\\Data Analytics documents\\\\Data Immersion\\\\Achievement 4\\\\09-2020 Instacart Basket Analysis'"
      ]
     },
     "execution_count": 3,
     "metadata": {},
     "output_type": "execute_result"
    }
   ],
   "source": [
    "path"
   ]
  },
  {
   "cell_type": "code",
   "execution_count": 4,
   "id": "7d3b6975",
   "metadata": {},
   "outputs": [],
   "source": [
    "# imported the all_products_merged_2 pkl file\n",
    "df_all_products_merged_2 = pd.read_pickle(os.path.join(path,'02 Data','Prepared Data','all_products_merged_2.pkl'))"
   ]
  },
  {
   "cell_type": "code",
   "execution_count": 5,
   "id": "a50824df",
   "metadata": {},
   "outputs": [
    {
     "data": {
      "text/plain": [
       "Index(['order_id', 'user_id', 'order_number', 'orders_day_of_week',\n",
       "       'order_time_of_day', 'department_id', 'prices', 'price_range_loc',\n",
       "       'busiest_day', 'busiest_days', 'busiest_period_of_day', 'max_order',\n",
       "       'loyalty_flag', 'Average_price', 'Spender_flag', 'frequency_flag',\n",
       "       'Age', 'number_of_dependants', 'income'],\n",
       "      dtype='object')"
      ]
     },
     "execution_count": 5,
     "metadata": {},
     "output_type": "execute_result"
    }
   ],
   "source": [
    "df_all_products_merged_2.columns"
   ]
  },
  {
   "cell_type": "code",
   "execution_count": 6,
   "id": "369154be",
   "metadata": {},
   "outputs": [
    {
     "data": {
      "text/plain": [
       "(32404859, 19)"
      ]
     },
     "execution_count": 6,
     "metadata": {},
     "output_type": "execute_result"
    }
   ],
   "source": [
    "df_all_products_merged_2.shape"
   ]
  },
  {
   "cell_type": "markdown",
   "id": "5fd9c02d",
   "metadata": {},
   "source": [
    "# creating of histogram"
   ]
  },
  {
   "cell_type": "code",
   "execution_count": 5,
   "id": "1e554b35",
   "metadata": {},
   "outputs": [
    {
     "data": {
      "text/plain": [
       "order_id                        0\n",
       "user_id                         0\n",
       "order_number                    0\n",
       "orders_day_of_week              0\n",
       "order_time_of_day               0\n",
       "department_id                   0\n",
       "prices                          0\n",
       "price_range_loc          21104410\n",
       "busiest_day                     0\n",
       "busiest_days                    0\n",
       "busiest_period_of_day           0\n",
       "max_order                       0\n",
       "loyalty_flag                    0\n",
       "Average_price               59344\n",
       "Spender_flag                59344\n",
       "frequency_flag                  5\n",
       "Age                             0\n",
       "number_of_dependants            0\n",
       "income                          0\n",
       "dtype: int64"
      ]
     },
     "execution_count": 5,
     "metadata": {},
     "output_type": "execute_result"
    }
   ],
   "source": [
    "# checking for any missing value in df_all_products_merged_2 dataframe\n",
    "df_all_products_merged_2.isnull().sum()"
   ]
  },
  {
   "cell_type": "code",
   "execution_count": 8,
   "id": "29b3ca8a",
   "metadata": {},
   "outputs": [
    {
     "data": {
      "text/plain": [
       "23"
      ]
     },
     "execution_count": 8,
     "metadata": {},
     "output_type": "execute_result"
    }
   ],
   "source": [
    "df_all_products_merged_2['order_time_of_day'].max()"
   ]
  },
  {
   "cell_type": "code",
   "execution_count": 5,
   "id": "76faedaf",
   "metadata": {},
   "outputs": [
    {
     "data": {
      "text/plain": [
       "10    2761760\n",
       "11    2736140\n",
       "14    2689136\n",
       "15    2662144\n",
       "13    2660954\n",
       "12    2618532\n",
       "16    2535202\n",
       "9     2454203\n",
       "17    2087654\n",
       "8     1718118\n",
       "18    1636502\n",
       "19    1258305\n",
       "20     976156\n",
       "7      891054\n",
       "21     795637\n",
       "22     634225\n",
       "23     402316\n",
       "6      290493\n",
       "0      218769\n",
       "1      115700\n",
       "5       87961\n",
       "2       69375\n",
       "4       53242\n",
       "3       51281\n",
       "Name: order_time_of_day, dtype: int64"
      ]
     },
     "execution_count": 5,
     "metadata": {},
     "output_type": "execute_result"
    }
   ],
   "source": [
    "df_all_products_merged_2['order_time_of_day'].value_counts()"
   ]
  },
  {
   "cell_type": "markdown",
   "id": "d0fe4a9f",
   "metadata": {},
   "source": [
    "I have investigated this situation in order_time_of_day,there is no missing values as shown above, and the maximum value is 23, before and after changing the data type. Also, the coount shows no sign of a missing number. though the histogram looks like there is a missing number. But if you check in the line graph where prices against order_time_of_day were plotted, you could see there is no sign of missing values. "
   ]
  },
  {
   "cell_type": "code",
   "execution_count": 6,
   "id": "679a5038",
   "metadata": {},
   "outputs": [
    {
     "data": {
      "text/plain": [
       "<AxesSubplot:ylabel='Frequency'>"
      ]
     },
     "execution_count": 6,
     "metadata": {},
     "output_type": "execute_result"
    },
    {
     "data": {
      "image/png": "[encoded data removed]",
      "text/plain": [
       "<Figure size 432x288 with 1 Axes>"
      ]
     },
     "metadata": {
      "needs_background": "light"
     },
     "output_type": "display_data"
    }
   ],
   "source": [
    "# creating histogram of Order_time_of_day\n",
    "df_all_products_merged_2['order_time_of_day'].plot.hist(bins = 25)"
   ]
  },
  {
   "cell_type": "markdown",
   "id": "bdd494e9",
   "metadata": {},
   "source": [
    "Here, the histograph demostrate the frequency of the order time of the day. From here, we can see that the rush hour is around 10 am ."
   ]
  },
  {
   "cell_type": "code",
   "execution_count": 9,
   "id": "1344837a",
   "metadata": {},
   "outputs": [
    {
     "data": {
      "image/png": "[encoded data removed]",
      "text/plain": [
       "<Figure size 432x288 with 1 Axes>"
      ]
     },
     "metadata": {
      "needs_background": "light"
     },
     "output_type": "display_data"
    }
   ],
   "source": [
    "hist = df_all_products_merged_2['order_time_of_day'].plot.hist(bins = 25)"
   ]
  },
  {
   "cell_type": "code",
   "execution_count": 37,
   "id": "be482425",
   "metadata": {},
   "outputs": [],
   "source": [
    "# saving the histogram as png in the file\n",
    "hist.figure.savefig(os.path.join(path, '04 Analysis','Visualizations', 'hist_order_time_of_day.png'))"
   ]
  },
  {
   "cell_type": "markdown",
   "id": "1d5b381c",
   "metadata": {},
   "source": [
    "# creating a bar chart"
   ]
  },
  {
   "cell_type": "code",
   "execution_count": 26,
   "id": "41a9dd89",
   "metadata": {},
   "outputs": [
    {
     "data": {
      "text/plain": [
       "<AxesSubplot:>"
      ]
     },
     "execution_count": 26,
     "metadata": {},
     "output_type": "execute_result"
    },
    {
     "data": {
      "image/png": "[encoded data removed]",
      "text/plain": [
       "<Figure size 432x288 with 1 Axes>"
      ]
     },
     "metadata": {
      "needs_background": "light"
     },
     "output_type": "display_data"
    }
   ],
   "source": [
    "# Ploting a bar chart of the loyalty_flag\n",
    "df_all_products_merged_2['loyalty_flag'].value_counts().plot.bar()"
   ]
  },
  {
   "cell_type": "code",
   "execution_count": 27,
   "id": "8db809a5",
   "metadata": {},
   "outputs": [
    {
     "data": {
      "image/png": "[encoded data removed]",
      "text/plain": [
       "<Figure size 432x288 with 1 Axes>"
      ]
     },
     "metadata": {
      "needs_background": "light"
     },
     "output_type": "display_data"
    }
   ],
   "source": [
    "bar = df_all_products_merged_2['loyalty_flag'].value_counts().plot.bar()"
   ]
  },
  {
   "cell_type": "code",
   "execution_count": 28,
   "id": "e4a41c17",
   "metadata": {},
   "outputs": [],
   "source": [
    "# saving the bar chart as png in the file\n",
    "bar.figure.savefig(os.path.join(path, '04 Analysis','Visualizations', 'bar_loyalty_flag.png'))"
   ]
  },
  {
   "cell_type": "markdown",
   "id": "87aecee9",
   "metadata": {},
   "source": [
    "# Droppping of some rows in the prices columns that has np.inf"
   ]
  },
  {
   "cell_type": "code",
   "execution_count": 5,
   "id": "42e3c916",
   "metadata": {},
   "outputs": [
    {
     "data": {
      "text/html": [
       "<div>\n",
       "<style scoped>\n",
       "    .dataframe tbody tr th:only-of-type {\n",
       "        vertical-align: middle;\n",
       "    }\n",
       "\n",
       "    .dataframe tbody tr th {\n",
       "        vertical-align: top;\n",
       "    }\n",
       "\n",
       "    .dataframe thead th {\n",
       "        text-align: right;\n",
       "    }\n",
       "</style>\n",
       "<table border=\"1\" class=\"dataframe\">\n",
       "  <thead>\n",
       "    <tr style=\"text-align: right;\">\n",
       "      <th></th>\n",
       "      <th>order_id</th>\n",
       "      <th>user_id</th>\n",
       "      <th>order_number</th>\n",
       "      <th>orders_day_of_week</th>\n",
       "      <th>order_time_of_day</th>\n",
       "      <th>department_id</th>\n",
       "      <th>prices</th>\n",
       "      <th>price_range_loc</th>\n",
       "      <th>busiest_day</th>\n",
       "      <th>busiest_days</th>\n",
       "      <th>busiest_period_of_day</th>\n",
       "      <th>max_order</th>\n",
       "      <th>loyalty_flag</th>\n",
       "      <th>Average_price</th>\n",
       "      <th>Spender_flag</th>\n",
       "      <th>frequency_flag</th>\n",
       "      <th>Age</th>\n",
       "      <th>number_of_dependants</th>\n",
       "      <th>income</th>\n",
       "    </tr>\n",
       "  </thead>\n",
       "  <tbody>\n",
       "    <tr>\n",
       "      <th>0</th>\n",
       "      <td>2539329</td>\n",
       "      <td>1</td>\n",
       "      <td>1</td>\n",
       "      <td>2</td>\n",
       "      <td>8</td>\n",
       "      <td>7</td>\n",
       "      <td>9.000000</td>\n",
       "      <td>Mid-range product</td>\n",
       "      <td>Regularly busy</td>\n",
       "      <td>Regularly busy</td>\n",
       "      <td>Average_orders</td>\n",
       "      <td>10</td>\n",
       "      <td>New customer</td>\n",
       "      <td>6.367188</td>\n",
       "      <td>Low spender</td>\n",
       "      <td>Non-frequent customer</td>\n",
       "      <td>31</td>\n",
       "      <td>3</td>\n",
       "      <td>40423</td>\n",
       "    </tr>\n",
       "    <tr>\n",
       "      <th>1</th>\n",
       "      <td>2398795</td>\n",
       "      <td>1</td>\n",
       "      <td>2</td>\n",
       "      <td>3</td>\n",
       "      <td>7</td>\n",
       "      <td>7</td>\n",
       "      <td>9.000000</td>\n",
       "      <td>Mid-range product</td>\n",
       "      <td>Regularly busy</td>\n",
       "      <td>Slowest_days</td>\n",
       "      <td>Average_orders</td>\n",
       "      <td>10</td>\n",
       "      <td>New customer</td>\n",
       "      <td>6.367188</td>\n",
       "      <td>Low spender</td>\n",
       "      <td>Non-frequent customer</td>\n",
       "      <td>31</td>\n",
       "      <td>3</td>\n",
       "      <td>40423</td>\n",
       "    </tr>\n",
       "    <tr>\n",
       "      <th>2</th>\n",
       "      <td>473747</td>\n",
       "      <td>1</td>\n",
       "      <td>3</td>\n",
       "      <td>3</td>\n",
       "      <td>12</td>\n",
       "      <td>7</td>\n",
       "      <td>9.000000</td>\n",
       "      <td>Mid-range product</td>\n",
       "      <td>Regularly busy</td>\n",
       "      <td>Slowest_days</td>\n",
       "      <td>Average_orders</td>\n",
       "      <td>10</td>\n",
       "      <td>New customer</td>\n",
       "      <td>6.367188</td>\n",
       "      <td>Low spender</td>\n",
       "      <td>Non-frequent customer</td>\n",
       "      <td>31</td>\n",
       "      <td>3</td>\n",
       "      <td>40423</td>\n",
       "    </tr>\n",
       "    <tr>\n",
       "      <th>3</th>\n",
       "      <td>2254736</td>\n",
       "      <td>1</td>\n",
       "      <td>4</td>\n",
       "      <td>4</td>\n",
       "      <td>7</td>\n",
       "      <td>7</td>\n",
       "      <td>9.000000</td>\n",
       "      <td>Mid-range product</td>\n",
       "      <td>Least busy</td>\n",
       "      <td>Slowest_days</td>\n",
       "      <td>Average_orders</td>\n",
       "      <td>10</td>\n",
       "      <td>New customer</td>\n",
       "      <td>6.367188</td>\n",
       "      <td>Low spender</td>\n",
       "      <td>Non-frequent customer</td>\n",
       "      <td>31</td>\n",
       "      <td>3</td>\n",
       "      <td>40423</td>\n",
       "    </tr>\n",
       "    <tr>\n",
       "      <th>4</th>\n",
       "      <td>431534</td>\n",
       "      <td>1</td>\n",
       "      <td>5</td>\n",
       "      <td>4</td>\n",
       "      <td>15</td>\n",
       "      <td>7</td>\n",
       "      <td>9.000000</td>\n",
       "      <td>Mid-range product</td>\n",
       "      <td>Least busy</td>\n",
       "      <td>Slowest_days</td>\n",
       "      <td>Average_orders</td>\n",
       "      <td>10</td>\n",
       "      <td>New customer</td>\n",
       "      <td>6.367188</td>\n",
       "      <td>Low spender</td>\n",
       "      <td>Non-frequent customer</td>\n",
       "      <td>31</td>\n",
       "      <td>3</td>\n",
       "      <td>40423</td>\n",
       "    </tr>\n",
       "    <tr>\n",
       "      <th>...</th>\n",
       "      <td>...</td>\n",
       "      <td>...</td>\n",
       "      <td>...</td>\n",
       "      <td>...</td>\n",
       "      <td>...</td>\n",
       "      <td>...</td>\n",
       "      <td>...</td>\n",
       "      <td>...</td>\n",
       "      <td>...</td>\n",
       "      <td>...</td>\n",
       "      <td>...</td>\n",
       "      <td>...</td>\n",
       "      <td>...</td>\n",
       "      <td>...</td>\n",
       "      <td>...</td>\n",
       "      <td>...</td>\n",
       "      <td>...</td>\n",
       "      <td>...</td>\n",
       "      <td>...</td>\n",
       "    </tr>\n",
       "    <tr>\n",
       "      <th>32404854</th>\n",
       "      <td>156685</td>\n",
       "      <td>106143</td>\n",
       "      <td>26</td>\n",
       "      <td>4</td>\n",
       "      <td>23</td>\n",
       "      <td>7</td>\n",
       "      <td>10.703125</td>\n",
       "      <td>NaN</td>\n",
       "      <td>Least busy</td>\n",
       "      <td>Slowest_days</td>\n",
       "      <td>Average_orders</td>\n",
       "      <td>26</td>\n",
       "      <td>Regular customer</td>\n",
       "      <td>10.703125</td>\n",
       "      <td>High spender</td>\n",
       "      <td>Frequent customer</td>\n",
       "      <td>25</td>\n",
       "      <td>0</td>\n",
       "      <td>53755</td>\n",
       "    </tr>\n",
       "    <tr>\n",
       "      <th>32404855</th>\n",
       "      <td>484769</td>\n",
       "      <td>66343</td>\n",
       "      <td>1</td>\n",
       "      <td>6</td>\n",
       "      <td>11</td>\n",
       "      <td>12</td>\n",
       "      <td>8.101562</td>\n",
       "      <td>NaN</td>\n",
       "      <td>Regularly busy</td>\n",
       "      <td>Regularly busy</td>\n",
       "      <td>Average_orders</td>\n",
       "      <td>4</td>\n",
       "      <td>New customer</td>\n",
       "      <td>8.101562</td>\n",
       "      <td>Low spender</td>\n",
       "      <td>Non-frequent customer</td>\n",
       "      <td>22</td>\n",
       "      <td>3</td>\n",
       "      <td>46151</td>\n",
       "    </tr>\n",
       "    <tr>\n",
       "      <th>32404856</th>\n",
       "      <td>1561557</td>\n",
       "      <td>66343</td>\n",
       "      <td>2</td>\n",
       "      <td>1</td>\n",
       "      <td>11</td>\n",
       "      <td>12</td>\n",
       "      <td>8.101562</td>\n",
       "      <td>NaN</td>\n",
       "      <td>Regularly busy</td>\n",
       "      <td>Busiest_days</td>\n",
       "      <td>Average_orders</td>\n",
       "      <td>4</td>\n",
       "      <td>New customer</td>\n",
       "      <td>8.101562</td>\n",
       "      <td>Low spender</td>\n",
       "      <td>Non-frequent customer</td>\n",
       "      <td>22</td>\n",
       "      <td>3</td>\n",
       "      <td>46151</td>\n",
       "    </tr>\n",
       "    <tr>\n",
       "      <th>32404857</th>\n",
       "      <td>276317</td>\n",
       "      <td>66343</td>\n",
       "      <td>3</td>\n",
       "      <td>6</td>\n",
       "      <td>15</td>\n",
       "      <td>12</td>\n",
       "      <td>8.101562</td>\n",
       "      <td>NaN</td>\n",
       "      <td>Regularly busy</td>\n",
       "      <td>Regularly busy</td>\n",
       "      <td>Average_orders</td>\n",
       "      <td>4</td>\n",
       "      <td>New customer</td>\n",
       "      <td>8.101562</td>\n",
       "      <td>Low spender</td>\n",
       "      <td>Non-frequent customer</td>\n",
       "      <td>22</td>\n",
       "      <td>3</td>\n",
       "      <td>46151</td>\n",
       "    </tr>\n",
       "    <tr>\n",
       "      <th>32404858</th>\n",
       "      <td>2922475</td>\n",
       "      <td>66343</td>\n",
       "      <td>4</td>\n",
       "      <td>1</td>\n",
       "      <td>12</td>\n",
       "      <td>12</td>\n",
       "      <td>8.101562</td>\n",
       "      <td>NaN</td>\n",
       "      <td>Regularly busy</td>\n",
       "      <td>Busiest_days</td>\n",
       "      <td>Average_orders</td>\n",
       "      <td>4</td>\n",
       "      <td>New customer</td>\n",
       "      <td>8.101562</td>\n",
       "      <td>Low spender</td>\n",
       "      <td>Non-frequent customer</td>\n",
       "      <td>22</td>\n",
       "      <td>3</td>\n",
       "      <td>46151</td>\n",
       "    </tr>\n",
       "  </tbody>\n",
       "</table>\n",
       "<p>32404161 rows × 19 columns</p>\n",
       "</div>"
      ],
      "text/plain": [
       "          order_id  user_id  order_number  orders_day_of_week  \\\n",
       "0          2539329        1             1                   2   \n",
       "1          2398795        1             2                   3   \n",
       "2           473747        1             3                   3   \n",
       "3          2254736        1             4                   4   \n",
       "4           431534        1             5                   4   \n",
       "...            ...      ...           ...                 ...   \n",
       "32404854    156685   106143            26                   4   \n",
       "32404855    484769    66343             1                   6   \n",
       "32404856   1561557    66343             2                   1   \n",
       "32404857    276317    66343             3                   6   \n",
       "32404858   2922475    66343             4                   1   \n",
       "\n",
       "          order_time_of_day  department_id     prices    price_range_loc  \\\n",
       "0                         8              7   9.000000  Mid-range product   \n",
       "1                         7              7   9.000000  Mid-range product   \n",
       "2                        12              7   9.000000  Mid-range product   \n",
       "3                         7              7   9.000000  Mid-range product   \n",
       "4                        15              7   9.000000  Mid-range product   \n",
       "...                     ...            ...        ...                ...   \n",
       "32404854                 23              7  10.703125                NaN   \n",
       "32404855                 11             12   8.101562                NaN   \n",
       "32404856                 11             12   8.101562                NaN   \n",
       "32404857                 15             12   8.101562                NaN   \n",
       "32404858                 12             12   8.101562                NaN   \n",
       "\n",
       "             busiest_day    busiest_days busiest_period_of_day  max_order  \\\n",
       "0         Regularly busy  Regularly busy        Average_orders         10   \n",
       "1         Regularly busy    Slowest_days        Average_orders         10   \n",
       "2         Regularly busy    Slowest_days        Average_orders         10   \n",
       "3             Least busy    Slowest_days        Average_orders         10   \n",
       "4             Least busy    Slowest_days        Average_orders         10   \n",
       "...                  ...             ...                   ...        ...   \n",
       "32404854      Least busy    Slowest_days        Average_orders         26   \n",
       "32404855  Regularly busy  Regularly busy        Average_orders          4   \n",
       "32404856  Regularly busy    Busiest_days        Average_orders          4   \n",
       "32404857  Regularly busy  Regularly busy        Average_orders          4   \n",
       "32404858  Regularly busy    Busiest_days        Average_orders          4   \n",
       "\n",
       "              loyalty_flag  Average_price  Spender_flag  \\\n",
       "0             New customer       6.367188   Low spender   \n",
       "1             New customer       6.367188   Low spender   \n",
       "2             New customer       6.367188   Low spender   \n",
       "3             New customer       6.367188   Low spender   \n",
       "4             New customer       6.367188   Low spender   \n",
       "...                    ...            ...           ...   \n",
       "32404854  Regular customer      10.703125  High spender   \n",
       "32404855      New customer       8.101562   Low spender   \n",
       "32404856      New customer       8.101562   Low spender   \n",
       "32404857      New customer       8.101562   Low spender   \n",
       "32404858      New customer       8.101562   Low spender   \n",
       "\n",
       "                 frequency_flag  Age  number_of_dependants  income  \n",
       "0         Non-frequent customer   31                     3   40423  \n",
       "1         Non-frequent customer   31                     3   40423  \n",
       "2         Non-frequent customer   31                     3   40423  \n",
       "3         Non-frequent customer   31                     3   40423  \n",
       "4         Non-frequent customer   31                     3   40423  \n",
       "...                         ...  ...                   ...     ...  \n",
       "32404854      Frequent customer   25                     0   53755  \n",
       "32404855  Non-frequent customer   22                     3   46151  \n",
       "32404856  Non-frequent customer   22                     3   46151  \n",
       "32404857  Non-frequent customer   22                     3   46151  \n",
       "32404858  Non-frequent customer   22                     3   46151  \n",
       "\n",
       "[32404161 rows x 19 columns]"
      ]
     },
     "execution_count": 5,
     "metadata": {},
     "output_type": "execute_result"
    }
   ],
   "source": [
    "# dropping rows with np.inf in the prices column\n",
    "df_all_products_merged_2[df_all_products_merged_2['prices'] != np.inf]"
   ]
  },
  {
   "cell_type": "markdown",
   "id": "d4868cd5",
   "metadata": {},
   "source": [
    "# Creating of lineplot to show the differences in expenditures"
   ]
  },
  {
   "cell_type": "code",
   "execution_count": 6,
   "id": "5cea4602",
   "metadata": {},
   "outputs": [],
   "source": [
    "np.random.seed(4)"
   ]
  },
  {
   "cell_type": "code",
   "execution_count": 7,
   "id": "56cfa452",
   "metadata": {},
   "outputs": [],
   "source": [
    "# creating a list holding True/false values to the test np.randon.rant () <= 0.7\n",
    "dev = np.random.rand(len(df_all_products_merged_2)) <= 0.7"
   ]
  },
  {
   "cell_type": "code",
   "execution_count": 8,
   "id": "444f15ec",
   "metadata": {},
   "outputs": [
    {
     "data": {
      "text/plain": [
       "array([False,  True, False, ...,  True,  True,  True])"
      ]
     },
     "execution_count": 8,
     "metadata": {},
     "output_type": "execute_result"
    }
   ],
   "source": [
    "dev"
   ]
  },
  {
   "cell_type": "code",
   "execution_count": 9,
   "id": "5d8acc97",
   "metadata": {},
   "outputs": [
    {
     "data": {
      "text/plain": [
       "array([0.93546686, 0.06557465, 0.85698584, 0.24456371, 0.22683171,\n",
       "       0.17068366, 0.27008946, 0.52534234, 0.83151571, 0.78153402])"
      ]
     },
     "execution_count": 9,
     "metadata": {},
     "output_type": "execute_result"
    }
   ],
   "source": [
    "np.random.rand(10)"
   ]
  },
  {
   "cell_type": "code",
   "execution_count": 10,
   "id": "5d0cd8e4",
   "metadata": {},
   "outputs": [],
   "source": [
    "# storing 70% of the sample in the dataframe big\n",
    "big = df_all_products_merged_2[dev]"
   ]
  },
  {
   "cell_type": "code",
   "execution_count": 11,
   "id": "78787502",
   "metadata": {},
   "outputs": [],
   "source": [
    "# storing 30% of the sample in the dataframe small\n",
    "small = df_all_products_merged_2[~dev]"
   ]
  },
  {
   "cell_type": "code",
   "execution_count": 12,
   "id": "c72ded1e",
   "metadata": {},
   "outputs": [
    {
     "data": {
      "text/plain": [
       "32404859"
      ]
     },
     "execution_count": 12,
     "metadata": {},
     "output_type": "execute_result"
    }
   ],
   "source": [
    "len(df_all_products_merged_2)"
   ]
  },
  {
   "cell_type": "code",
   "execution_count": 13,
   "id": "fed9ef60",
   "metadata": {},
   "outputs": [
    {
     "data": {
      "text/plain": [
       "32404859"
      ]
     },
     "execution_count": 13,
     "metadata": {},
     "output_type": "execute_result"
    }
   ],
   "source": [
    "len(big)+len(small)"
   ]
  },
  {
   "cell_type": "code",
   "execution_count": 14,
   "id": "aa1a5a17",
   "metadata": {},
   "outputs": [],
   "source": [
    "df_1 = small[['order_time_of_day','prices']]"
   ]
  },
  {
   "cell_type": "code",
   "execution_count": 15,
   "id": "5bcbe81c",
   "metadata": {},
   "outputs": [
    {
     "data": {
      "image/png": "[encoded data removed]",
      "text/plain": [
       "<Figure size 432x288 with 1 Axes>"
      ]
     },
     "metadata": {
      "needs_background": "light"
     },
     "output_type": "display_data"
    }
   ],
   "source": [
    "line = sns.lineplot(data =df_1,x ='order_time_of_day',y='prices' )"
   ]
  },
  {
   "cell_type": "markdown",
   "id": "9f883763",
   "metadata": {},
   "source": [
    "In this plot the pick of the expenditure is at 20 hours. This maybe due to people shopping after the close of work and other reason might be due to some evening events."
   ]
  },
  {
   "cell_type": "code",
   "execution_count": 18,
   "id": "2f1e1892",
   "metadata": {},
   "outputs": [],
   "source": [
    "# saving the line graph as png in the file\n",
    "line.figure.savefig(os.path.join(path, '04 Analysis','Visualizations', 'line_1_differences_in_expenditure.png'))"
   ]
  },
  {
   "cell_type": "markdown",
   "id": "2dc99309",
   "metadata": {},
   "source": [
    "# Plotting of the second lineplot to show customers demographics"
   ]
  },
  {
   "cell_type": "code",
   "execution_count": 16,
   "id": "c7762ecd",
   "metadata": {},
   "outputs": [],
   "source": [
    "df_2 = small[['number_of_dependants','Age']]"
   ]
  },
  {
   "cell_type": "code",
   "execution_count": 17,
   "id": "6f9a3568",
   "metadata": {},
   "outputs": [
    {
     "data": {
      "image/png": "[encoded data removed]",
      "text/plain": [
       "<Figure size 432x288 with 1 Axes>"
      ]
     },
     "metadata": {
      "needs_background": "light"
     },
     "output_type": "display_data"
    }
   ],
   "source": [
    "line_1=sns.lineplot(data =df_2,y ='number_of_dependants',x='Age' )"
   ]
  },
  {
   "cell_type": "markdown",
   "id": "01efb56b",
   "metadata": {},
   "source": [
    "This information on customers demographics. I can not figure out any connection between Age and the number of dependants.Thus, there is no connection between them."
   ]
  },
  {
   "cell_type": "code",
   "execution_count": 18,
   "id": "06540dd8",
   "metadata": {},
   "outputs": [],
   "source": [
    "# saving the line graph as png in the file\n",
    "line_1.figure.savefig(os.path.join(path, '04 Analysis','Visualizations', 'line_2_customers_demographics.png'))"
   ]
  },
  {
   "cell_type": "markdown",
   "id": "49200041",
   "metadata": {},
   "source": [
    "# Plotting of a scatterplot to show connection between Age and spending power."
   ]
  },
  {
   "cell_type": "code",
   "execution_count": 19,
   "id": "6b11df5f",
   "metadata": {},
   "outputs": [],
   "source": [
    "df_3 = small[['income','Age']]"
   ]
  },
  {
   "cell_type": "code",
   "execution_count": 20,
   "id": "3df8be10",
   "metadata": {},
   "outputs": [
    {
     "data": {
      "image/png": "[encoded data removed]",
      "text/plain": [
       "<Figure size 432x288 with 1 Axes>"
      ]
     },
     "metadata": {
      "needs_background": "light"
     },
     "output_type": "display_data"
    }
   ],
   "source": [
    "Scatter=sns.scatterplot(data =df_3,y ='income',x='Age' )"
   ]
  },
  {
   "cell_type": "markdown",
   "id": "f99aeaf1",
   "metadata": {},
   "source": [
    "From the scatterplot above, we could see that people between 20 to 40 years have lower spending power as when compared with people from 40 years and above. So there is a connection between them.The older one get the more the spending power grows."
   ]
  },
  {
   "cell_type": "code",
   "execution_count": 21,
   "id": "dca355d7",
   "metadata": {},
   "outputs": [],
   "source": [
    "# saving the scatterplot as png in the file\n",
    "Scatter.figure.savefig(os.path.join(path, '04 Analysis','Visualizations', 'scatter_age_and_spending_power.png'))"
   ]
  },
  {
   "cell_type": "code",
   "execution_count": null,
   "id": "f1c42733",
   "metadata": {},
   "outputs": [],
   "source": []
  }
 ],
 "metadata": {
  "kernelspec": {
   "display_name": "Python 3 (ipykernel)",
   "language": "python",
   "name": "python3"
  },
  "language_info": {
   "codemirror_mode": {
    "name": "ipython",
    "version": 3
   },
   "file_extension": ".py",
   "mimetype": "text/x-python",
   "name": "python",
   "nbconvert_exporter": "python",
   "pygments_lexer": "ipython3",
   "version": "3.9.12"
  }
 },
 "nbformat": 4,
 "nbformat_minor": 5
}
